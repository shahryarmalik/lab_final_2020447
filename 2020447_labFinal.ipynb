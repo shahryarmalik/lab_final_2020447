{
 "cells": [
  {
   "cell_type": "code",
   "execution_count": 1,
   "id": "87716336",
   "metadata": {
    "_cell_guid": "b1076dfc-b9ad-4769-8c92-a6c4dae69d19",
    "_uuid": "8f2839f25d086af736a60e9eeb907d3b93b6e0e5",
    "execution": {
     "iopub.execute_input": "2023-05-05T04:40:38.624889Z",
     "iopub.status.busy": "2023-05-05T04:40:38.624433Z",
     "iopub.status.idle": "2023-05-05T04:40:38.647517Z",
     "shell.execute_reply": "2023-05-05T04:40:38.646659Z"
    },
    "papermill": {
     "duration": 0.044314,
     "end_time": "2023-05-05T04:40:38.649872",
     "exception": false,
     "start_time": "2023-05-05T04:40:38.605558",
     "status": "completed"
    },
    "tags": []
   },
   "outputs": [],
   "source": [
    "# This Python 3 environment comes with many helpful analytics libraries installed\n",
    "# It is defined by the kaggle/python Docker image: https://github.com/kaggle/docker-python\n",
    "# For example, here's several helpful packages to load\n",
    "\n",
    "import numpy as np # linear algebra\n",
    "import pandas as pd # data processing, CSV file I/O (e.g. pd.read_csv)\n",
    "\n",
    "# Input data files are available in the read-only \"../input/\" directory\n",
    "# For example, running this (by clicking run or pressing Shift+Enter) will list all files under the input directory\n",
    "\n",
    "import os\n",
    "for dirname, _, filenames in os.walk('/kaggle/input'):\n",
    "    for filename in filenames:\n",
    "        print(os.path.join(dirname, filename))\n",
    "\n",
    "# You can write up to 20GB to the current directory (/kaggle/working/) that gets preserved as output when you create a version using \"Save & Run All\" \n",
    "# You can also write temporary files to /kaggle/temp/, but they won't be saved outside of the current session"
   ]
  },
  {
   "cell_type": "code",
   "execution_count": 2,
   "id": "47060f41",
   "metadata": {
    "execution": {
     "iopub.execute_input": "2023-05-05T04:40:38.683522Z",
     "iopub.status.busy": "2023-05-05T04:40:38.683095Z",
     "iopub.status.idle": "2023-05-05T04:40:40.634736Z",
     "shell.execute_reply": "2023-05-05T04:40:40.633475Z"
    },
    "papermill": {
     "duration": 1.971424,
     "end_time": "2023-05-05T04:40:40.637384",
     "exception": false,
     "start_time": "2023-05-05T04:40:38.665960",
     "status": "completed"
    },
    "tags": []
   },
   "outputs": [],
   "source": [
    "# importing important libraries\n",
    "import seaborn as sns\n",
    "import matplotlib.pyplot as plt\n",
    "import re\n",
    "import time\n",
    "import string\n",
    "import warnings\n",
    "# for showing all the plots inline\n",
    "%matplotlib inline\n",
    "# importing NLP libraries\n",
    "\n",
    "import nltk\n",
    "from nltk.corpus import stopwords\n",
    "from nltk.tokenize import sent_tokenize, word_tokenize\n",
    "from nltk.sentiment.vader import SentimentIntensityAnalyzer\n",
    "from nltk.stem import WordNetLemmatizer\n",
    "from nltk.stem.porter import *\n",
    "from nltk.classify import NaiveBayesClassifier\n",
    "from wordcloud import WordCloud\n",
    "from sklearn.decomposition import LatentDirichletAllocation\n",
    "from collections import Counter\n",
    "from textblob import TextBlob"
   ]
  },
  {
   "cell_type": "code",
   "execution_count": 3,
   "id": "3f6c4973",
   "metadata": {
    "execution": {
     "iopub.execute_input": "2023-05-05T04:40:40.672378Z",
     "iopub.status.busy": "2023-05-05T04:40:40.671555Z",
     "iopub.status.idle": "2023-05-05T04:40:41.944209Z",
     "shell.execute_reply": "2023-05-05T04:40:41.942937Z"
    },
    "papermill": {
     "duration": 1.294637,
     "end_time": "2023-05-05T04:40:41.947548",
     "exception": false,
     "start_time": "2023-05-05T04:40:40.652911",
     "status": "completed"
    },
    "tags": []
   },
   "outputs": [],
   "source": [
    "df= pd.read_csv('chatgpt1.csv')"
   ]
  },
  {
   "cell_type": "code",
   "execution_count": 4,
   "id": "9770a2e5",
   "metadata": {
    "execution": {
     "iopub.execute_input": "2023-05-05T04:40:41.982218Z",
     "iopub.status.busy": "2023-05-05T04:40:41.981783Z",
     "iopub.status.idle": "2023-05-05T04:40:41.990975Z",
     "shell.execute_reply": "2023-05-05T04:40:41.989577Z"
    },
    "papermill": {
     "duration": 0.02989,
     "end_time": "2023-05-05T04:40:41.993505",
     "exception": false,
     "start_time": "2023-05-05T04:40:41.963615",
     "status": "completed"
    },
    "tags": []
   },
   "outputs": [
    {
     "data": {
      "text/plain": [
       "(50001, 20)"
      ]
     },
     "execution_count": 4,
     "metadata": {},
     "output_type": "execute_result"
    }
   ],
   "source": [
    "# shape of dataframe\n",
    "df.shape"
   ]
  },
  {
   "cell_type": "code",
   "execution_count": 5,
   "id": "a95f9959",
   "metadata": {
    "execution": {
     "iopub.execute_input": "2023-05-05T04:40:42.027932Z",
     "iopub.status.busy": "2023-05-05T04:40:42.026615Z",
     "iopub.status.idle": "2023-05-05T04:40:42.062167Z",
     "shell.execute_reply": "2023-05-05T04:40:42.061307Z"
    },
    "papermill": {
     "duration": 0.055211,
     "end_time": "2023-05-05T04:40:42.064595",
     "exception": false,
     "start_time": "2023-05-05T04:40:42.009384",
     "status": "completed"
    },
    "tags": []
   },
   "outputs": [
    {
     "data": {
      "text/html": [
       "<div>\n",
       "<style scoped>\n",
       "    .dataframe tbody tr th:only-of-type {\n",
       "        vertical-align: middle;\n",
       "    }\n",
       "\n",
       "    .dataframe tbody tr th {\n",
       "        vertical-align: top;\n",
       "    }\n",
       "\n",
       "    .dataframe thead th {\n",
       "        text-align: right;\n",
       "    }\n",
       "</style>\n",
       "<table border=\"1\" class=\"dataframe\">\n",
       "  <thead>\n",
       "    <tr style=\"text-align: right;\">\n",
       "      <th></th>\n",
       "      <th>Datetime</th>\n",
       "      <th>Tweet Id</th>\n",
       "      <th>Text</th>\n",
       "      <th>Username</th>\n",
       "      <th>Permalink</th>\n",
       "      <th>User</th>\n",
       "      <th>Outlinks</th>\n",
       "      <th>CountLinks</th>\n",
       "      <th>ReplyCount</th>\n",
       "      <th>RetweetCount</th>\n",
       "      <th>LikeCount</th>\n",
       "      <th>QuoteCount</th>\n",
       "      <th>ConversationId</th>\n",
       "      <th>Language</th>\n",
       "      <th>Source</th>\n",
       "      <th>Media</th>\n",
       "      <th>QuotedTweet</th>\n",
       "      <th>MentionedUsers</th>\n",
       "      <th>hashtag</th>\n",
       "      <th>hastag_counts</th>\n",
       "    </tr>\n",
       "  </thead>\n",
       "  <tbody>\n",
       "    <tr>\n",
       "      <th>0</th>\n",
       "      <td>2023-01-22 13:44:34+00:00</td>\n",
       "      <td>1617156270871699456</td>\n",
       "      <td>ChatGPTで遊ぶの忘れてた！！\\n書類作るコード書いてみてほしいのと、\\nどこまで思考整...</td>\n",
       "      <td>mochico0123</td>\n",
       "      <td>https://twitter.com/mochico0123/status/1617156...</td>\n",
       "      <td>https://twitter.com/mochico0123</td>\n",
       "      <td>NaN</td>\n",
       "      <td>NaN</td>\n",
       "      <td>1</td>\n",
       "      <td>0</td>\n",
       "      <td>5</td>\n",
       "      <td>0</td>\n",
       "      <td>1617156270871699456</td>\n",
       "      <td>ja</td>\n",
       "      <td>&lt;a href=\"http://twitter.com/download/iphone\" r...</td>\n",
       "      <td>NaN</td>\n",
       "      <td>NaN</td>\n",
       "      <td>NaN</td>\n",
       "      <td>[]</td>\n",
       "      <td>0</td>\n",
       "    </tr>\n",
       "    <tr>\n",
       "      <th>1</th>\n",
       "      <td>2023-01-22 13:44:39+00:00</td>\n",
       "      <td>1617156291046133761</td>\n",
       "      <td>@AlexandrovnaIng Prohibition of ChatGPT has be...</td>\n",
       "      <td>Caput_LupinumSG</td>\n",
       "      <td>https://twitter.com/Caput_LupinumSG/status/161...</td>\n",
       "      <td>https://twitter.com/Caput_LupinumSG</td>\n",
       "      <td>NaN</td>\n",
       "      <td>NaN</td>\n",
       "      <td>1</td>\n",
       "      <td>0</td>\n",
       "      <td>5</td>\n",
       "      <td>0</td>\n",
       "      <td>1617148639993806848</td>\n",
       "      <td>en</td>\n",
       "      <td>&lt;a href=\"http://twitter.com/download/iphone\" r...</td>\n",
       "      <td>NaN</td>\n",
       "      <td>NaN</td>\n",
       "      <td>[User(username='AlexandrovnaIng', id=282705900...</td>\n",
       "      <td>[]</td>\n",
       "      <td>0</td>\n",
       "    </tr>\n",
       "    <tr>\n",
       "      <th>2</th>\n",
       "      <td>2023-01-22 13:44:44+00:00</td>\n",
       "      <td>1617156308926349312</td>\n",
       "      <td>Schaut Euch an, was @fobizz @DianaKnodel alles...</td>\n",
       "      <td>ciffi</td>\n",
       "      <td>https://twitter.com/ciffi/status/1617156308926...</td>\n",
       "      <td>https://twitter.com/ciffi</td>\n",
       "      <td>['https://us02web.zoom.us/webinar/register/801...</td>\n",
       "      <td>['https://t.co/DsoeVJrPBp', 'https://t.co/HflT...</td>\n",
       "      <td>0</td>\n",
       "      <td>0</td>\n",
       "      <td>4</td>\n",
       "      <td>0</td>\n",
       "      <td>1617156308926349312</td>\n",
       "      <td>de</td>\n",
       "      <td>&lt;a href=\"http://twitter.com/#!/download/ipad\" ...</td>\n",
       "      <td>[Photo(previewUrl='https://pbs.twimg.com/media...</td>\n",
       "      <td>https://twitter.com/DianaKnodel/status/1617153...</td>\n",
       "      <td>[User(username='fobizz', id=884708145792253952...</td>\n",
       "      <td>['#ChatGPT']</td>\n",
       "      <td>1</td>\n",
       "    </tr>\n",
       "    <tr>\n",
       "      <th>3</th>\n",
       "      <td>2023-01-22 13:44:49+00:00</td>\n",
       "      <td>1617156332297256961</td>\n",
       "      <td>Bow down to chatGPT 🫡..... https://t.co/ENTSzi...</td>\n",
       "      <td>Vishwasrisiri</td>\n",
       "      <td>https://twitter.com/Vishwasrisiri/status/16171...</td>\n",
       "      <td>https://twitter.com/Vishwasrisiri</td>\n",
       "      <td>['https://twitter.com/agadmator/status/1617155...</td>\n",
       "      <td>['https://t.co/ENTSzi2AQ9']</td>\n",
       "      <td>0</td>\n",
       "      <td>0</td>\n",
       "      <td>2</td>\n",
       "      <td>0</td>\n",
       "      <td>1617156332297256961</td>\n",
       "      <td>en</td>\n",
       "      <td>&lt;a href=\"http://twitter.com/download/android\" ...</td>\n",
       "      <td>NaN</td>\n",
       "      <td>https://twitter.com/agadmator/status/161715501...</td>\n",
       "      <td>NaN</td>\n",
       "      <td>[]</td>\n",
       "      <td>0</td>\n",
       "    </tr>\n",
       "    <tr>\n",
       "      <th>4</th>\n",
       "      <td>2023-01-22 13:44:52+00:00</td>\n",
       "      <td>1617156345064570880</td>\n",
       "      <td>Profilinde vatan, Türkiye falan yazan bireyler...</td>\n",
       "      <td>0xGenetikciniz</td>\n",
       "      <td>https://twitter.com/0xGenetikciniz/status/1617...</td>\n",
       "      <td>https://twitter.com/0xGenetikciniz</td>\n",
       "      <td>NaN</td>\n",
       "      <td>NaN</td>\n",
       "      <td>0</td>\n",
       "      <td>0</td>\n",
       "      <td>4</td>\n",
       "      <td>0</td>\n",
       "      <td>1617156345064570880</td>\n",
       "      <td>tr</td>\n",
       "      <td>&lt;a href=\"http://twitter.com/download/iphone\" r...</td>\n",
       "      <td>NaN</td>\n",
       "      <td>NaN</td>\n",
       "      <td>NaN</td>\n",
       "      <td>[]</td>\n",
       "      <td>0</td>\n",
       "    </tr>\n",
       "  </tbody>\n",
       "</table>\n",
       "</div>"
      ],
      "text/plain": [
       "                    Datetime             Tweet Id  \\\n",
       "0  2023-01-22 13:44:34+00:00  1617156270871699456   \n",
       "1  2023-01-22 13:44:39+00:00  1617156291046133761   \n",
       "2  2023-01-22 13:44:44+00:00  1617156308926349312   \n",
       "3  2023-01-22 13:44:49+00:00  1617156332297256961   \n",
       "4  2023-01-22 13:44:52+00:00  1617156345064570880   \n",
       "\n",
       "                                                Text         Username  \\\n",
       "0  ChatGPTで遊ぶの忘れてた！！\\n書類作るコード書いてみてほしいのと、\\nどこまで思考整...      mochico0123   \n",
       "1  @AlexandrovnaIng Prohibition of ChatGPT has be...  Caput_LupinumSG   \n",
       "2  Schaut Euch an, was @fobizz @DianaKnodel alles...            ciffi   \n",
       "3  Bow down to chatGPT 🫡..... https://t.co/ENTSzi...    Vishwasrisiri   \n",
       "4  Profilinde vatan, Türkiye falan yazan bireyler...   0xGenetikciniz   \n",
       "\n",
       "                                           Permalink  \\\n",
       "0  https://twitter.com/mochico0123/status/1617156...   \n",
       "1  https://twitter.com/Caput_LupinumSG/status/161...   \n",
       "2  https://twitter.com/ciffi/status/1617156308926...   \n",
       "3  https://twitter.com/Vishwasrisiri/status/16171...   \n",
       "4  https://twitter.com/0xGenetikciniz/status/1617...   \n",
       "\n",
       "                                  User  \\\n",
       "0      https://twitter.com/mochico0123   \n",
       "1  https://twitter.com/Caput_LupinumSG   \n",
       "2            https://twitter.com/ciffi   \n",
       "3    https://twitter.com/Vishwasrisiri   \n",
       "4   https://twitter.com/0xGenetikciniz   \n",
       "\n",
       "                                            Outlinks  \\\n",
       "0                                                NaN   \n",
       "1                                                NaN   \n",
       "2  ['https://us02web.zoom.us/webinar/register/801...   \n",
       "3  ['https://twitter.com/agadmator/status/1617155...   \n",
       "4                                                NaN   \n",
       "\n",
       "                                          CountLinks  ReplyCount  \\\n",
       "0                                                NaN           1   \n",
       "1                                                NaN           1   \n",
       "2  ['https://t.co/DsoeVJrPBp', 'https://t.co/HflT...           0   \n",
       "3                        ['https://t.co/ENTSzi2AQ9']           0   \n",
       "4                                                NaN           0   \n",
       "\n",
       "   RetweetCount  LikeCount  QuoteCount       ConversationId Language  \\\n",
       "0             0          5           0  1617156270871699456       ja   \n",
       "1             0          5           0  1617148639993806848       en   \n",
       "2             0          4           0  1617156308926349312       de   \n",
       "3             0          2           0  1617156332297256961       en   \n",
       "4             0          4           0  1617156345064570880       tr   \n",
       "\n",
       "                                              Source  \\\n",
       "0  <a href=\"http://twitter.com/download/iphone\" r...   \n",
       "1  <a href=\"http://twitter.com/download/iphone\" r...   \n",
       "2  <a href=\"http://twitter.com/#!/download/ipad\" ...   \n",
       "3  <a href=\"http://twitter.com/download/android\" ...   \n",
       "4  <a href=\"http://twitter.com/download/iphone\" r...   \n",
       "\n",
       "                                               Media  \\\n",
       "0                                                NaN   \n",
       "1                                                NaN   \n",
       "2  [Photo(previewUrl='https://pbs.twimg.com/media...   \n",
       "3                                                NaN   \n",
       "4                                                NaN   \n",
       "\n",
       "                                         QuotedTweet  \\\n",
       "0                                                NaN   \n",
       "1                                                NaN   \n",
       "2  https://twitter.com/DianaKnodel/status/1617153...   \n",
       "3  https://twitter.com/agadmator/status/161715501...   \n",
       "4                                                NaN   \n",
       "\n",
       "                                      MentionedUsers       hashtag  \\\n",
       "0                                                NaN            []   \n",
       "1  [User(username='AlexandrovnaIng', id=282705900...            []   \n",
       "2  [User(username='fobizz', id=884708145792253952...  ['#ChatGPT']   \n",
       "3                                                NaN            []   \n",
       "4                                                NaN            []   \n",
       "\n",
       "   hastag_counts  \n",
       "0              0  \n",
       "1              0  \n",
       "2              1  \n",
       "3              0  \n",
       "4              0  "
      ]
     },
     "execution_count": 5,
     "metadata": {},
     "output_type": "execute_result"
    }
   ],
   "source": [
    "df.head(5)"
   ]
  },
  {
   "cell_type": "code",
   "execution_count": 6,
   "id": "4fa48b09",
   "metadata": {
    "execution": {
     "iopub.execute_input": "2023-05-05T04:40:42.100119Z",
     "iopub.status.busy": "2023-05-05T04:40:42.099082Z",
     "iopub.status.idle": "2023-05-05T04:40:42.118445Z",
     "shell.execute_reply": "2023-05-05T04:40:42.117276Z"
    },
    "papermill": {
     "duration": 0.03981,
     "end_time": "2023-05-05T04:40:42.121037",
     "exception": false,
     "start_time": "2023-05-05T04:40:42.081227",
     "status": "completed"
    },
    "tags": []
   },
   "outputs": [
    {
     "data": {
      "text/html": [
       "<div>\n",
       "<style scoped>\n",
       "    .dataframe tbody tr th:only-of-type {\n",
       "        vertical-align: middle;\n",
       "    }\n",
       "\n",
       "    .dataframe tbody tr th {\n",
       "        vertical-align: top;\n",
       "    }\n",
       "\n",
       "    .dataframe thead th {\n",
       "        text-align: right;\n",
       "    }\n",
       "</style>\n",
       "<table border=\"1\" class=\"dataframe\">\n",
       "  <thead>\n",
       "    <tr style=\"text-align: right;\">\n",
       "      <th></th>\n",
       "      <th>Datetime</th>\n",
       "      <th>Tweet Id</th>\n",
       "      <th>Text</th>\n",
       "      <th>Username</th>\n",
       "      <th>Permalink</th>\n",
       "      <th>User</th>\n",
       "      <th>Outlinks</th>\n",
       "      <th>CountLinks</th>\n",
       "      <th>ReplyCount</th>\n",
       "      <th>RetweetCount</th>\n",
       "      <th>LikeCount</th>\n",
       "      <th>QuoteCount</th>\n",
       "      <th>ConversationId</th>\n",
       "      <th>Language</th>\n",
       "      <th>Source</th>\n",
       "      <th>Media</th>\n",
       "      <th>QuotedTweet</th>\n",
       "      <th>MentionedUsers</th>\n",
       "      <th>hashtag</th>\n",
       "      <th>hastag_counts</th>\n",
       "    </tr>\n",
       "  </thead>\n",
       "  <tbody>\n",
       "    <tr>\n",
       "      <th>49999</th>\n",
       "      <td>2023-01-24 06:58:01+00:00</td>\n",
       "      <td>1617778731678044162</td>\n",
       "      <td>Portland Shop Uses ChatGPT To Tell Family Stor...</td>\n",
       "      <td>EuniceNyandat</td>\n",
       "      <td>https://twitter.com/EuniceNyandat/status/16177...</td>\n",
       "      <td>https://twitter.com/EuniceNyandat</td>\n",
       "      <td>['https://drumup.io/s/DkswB6']</td>\n",
       "      <td>['https://t.co/rzGvr6yTOc']</td>\n",
       "      <td>0</td>\n",
       "      <td>0</td>\n",
       "      <td>0</td>\n",
       "      <td>0</td>\n",
       "      <td>1617778731678044162</td>\n",
       "      <td>en</td>\n",
       "      <td>&lt;a href=\"https://drumup.io\" rel=\"nofollow\"&gt;dru...</td>\n",
       "      <td>NaN</td>\n",
       "      <td>NaN</td>\n",
       "      <td>NaN</td>\n",
       "      <td>[]</td>\n",
       "      <td>0</td>\n",
       "    </tr>\n",
       "    <tr>\n",
       "      <th>50000</th>\n",
       "      <td>2023-01-24 06:58:01+00:00</td>\n",
       "      <td>1617778733355790342</td>\n",
       "      <td>Ahora sueño con el día en que Amazon integre u...</td>\n",
       "      <td>AmericoSD_69</td>\n",
       "      <td>https://twitter.com/AmericoSD_69/status/161777...</td>\n",
       "      <td>https://twitter.com/AmericoSD_69</td>\n",
       "      <td>NaN</td>\n",
       "      <td>NaN</td>\n",
       "      <td>0</td>\n",
       "      <td>0</td>\n",
       "      <td>0</td>\n",
       "      <td>0</td>\n",
       "      <td>1617778733355790342</td>\n",
       "      <td>es</td>\n",
       "      <td>&lt;a href=\"http://twitter.com/download/android\" ...</td>\n",
       "      <td>NaN</td>\n",
       "      <td>NaN</td>\n",
       "      <td>NaN</td>\n",
       "      <td>[]</td>\n",
       "      <td>0</td>\n",
       "    </tr>\n",
       "  </tbody>\n",
       "</table>\n",
       "</div>"
      ],
      "text/plain": [
       "                        Datetime             Tweet Id  \\\n",
       "49999  2023-01-24 06:58:01+00:00  1617778731678044162   \n",
       "50000  2023-01-24 06:58:01+00:00  1617778733355790342   \n",
       "\n",
       "                                                    Text       Username  \\\n",
       "49999  Portland Shop Uses ChatGPT To Tell Family Stor...  EuniceNyandat   \n",
       "50000  Ahora sueño con el día en que Amazon integre u...   AmericoSD_69   \n",
       "\n",
       "                                               Permalink  \\\n",
       "49999  https://twitter.com/EuniceNyandat/status/16177...   \n",
       "50000  https://twitter.com/AmericoSD_69/status/161777...   \n",
       "\n",
       "                                    User                        Outlinks  \\\n",
       "49999  https://twitter.com/EuniceNyandat  ['https://drumup.io/s/DkswB6']   \n",
       "50000   https://twitter.com/AmericoSD_69                             NaN   \n",
       "\n",
       "                        CountLinks  ReplyCount  RetweetCount  LikeCount  \\\n",
       "49999  ['https://t.co/rzGvr6yTOc']           0             0          0   \n",
       "50000                          NaN           0             0          0   \n",
       "\n",
       "       QuoteCount       ConversationId Language  \\\n",
       "49999           0  1617778731678044162       en   \n",
       "50000           0  1617778733355790342       es   \n",
       "\n",
       "                                                  Source Media QuotedTweet  \\\n",
       "49999  <a href=\"https://drumup.io\" rel=\"nofollow\">dru...   NaN         NaN   \n",
       "50000  <a href=\"http://twitter.com/download/android\" ...   NaN         NaN   \n",
       "\n",
       "      MentionedUsers hashtag  hastag_counts  \n",
       "49999            NaN      []              0  \n",
       "50000            NaN      []              0  "
      ]
     },
     "execution_count": 6,
     "metadata": {},
     "output_type": "execute_result"
    }
   ],
   "source": [
    "df.tail(2)"
   ]
  },
  {
   "cell_type": "code",
   "execution_count": 7,
   "id": "210c988c",
   "metadata": {
    "execution": {
     "iopub.execute_input": "2023-05-05T04:40:42.157660Z",
     "iopub.status.busy": "2023-05-05T04:40:42.156339Z",
     "iopub.status.idle": "2023-05-05T04:40:42.217827Z",
     "shell.execute_reply": "2023-05-05T04:40:42.216183Z"
    },
    "papermill": {
     "duration": 0.082661,
     "end_time": "2023-05-05T04:40:42.220423",
     "exception": false,
     "start_time": "2023-05-05T04:40:42.137762",
     "status": "completed"
    },
    "tags": []
   },
   "outputs": [
    {
     "name": "stdout",
     "output_type": "stream",
     "text": [
      "<class 'pandas.core.frame.DataFrame'>\n",
      "RangeIndex: 50001 entries, 0 to 50000\n",
      "Data columns (total 20 columns):\n",
      " #   Column          Non-Null Count  Dtype \n",
      "---  ------          --------------  ----- \n",
      " 0   Datetime        50001 non-null  object\n",
      " 1   Tweet Id        50001 non-null  int64 \n",
      " 2   Text            50001 non-null  object\n",
      " 3   Username        50001 non-null  object\n",
      " 4   Permalink       50001 non-null  object\n",
      " 5   User            50001 non-null  object\n",
      " 6   Outlinks        19942 non-null  object\n",
      " 7   CountLinks      19942 non-null  object\n",
      " 8   ReplyCount      50001 non-null  int64 \n",
      " 9   RetweetCount    50001 non-null  int64 \n",
      " 10  LikeCount       50001 non-null  int64 \n",
      " 11  QuoteCount      50001 non-null  int64 \n",
      " 12  ConversationId  50001 non-null  int64 \n",
      " 13  Language        50001 non-null  object\n",
      " 14  Source          50001 non-null  object\n",
      " 15  Media           9502 non-null   object\n",
      " 16  QuotedTweet     3563 non-null   object\n",
      " 17  MentionedUsers  17169 non-null  object\n",
      " 18  hashtag         50001 non-null  object\n",
      " 19  hastag_counts   50001 non-null  int64 \n",
      "dtypes: int64(7), object(13)\n",
      "memory usage: 7.6+ MB\n"
     ]
    }
   ],
   "source": [
    "# Info about features\n",
    "df.info()"
   ]
  },
  {
   "cell_type": "code",
   "execution_count": 8,
   "id": "893a1faa",
   "metadata": {
    "execution": {
     "iopub.execute_input": "2023-05-05T04:40:42.256804Z",
     "iopub.status.busy": "2023-05-05T04:40:42.255927Z",
     "iopub.status.idle": "2023-05-05T04:40:42.303492Z",
     "shell.execute_reply": "2023-05-05T04:40:42.302388Z"
    },
    "papermill": {
     "duration": 0.068606,
     "end_time": "2023-05-05T04:40:42.306080",
     "exception": false,
     "start_time": "2023-05-05T04:40:42.237474",
     "status": "completed"
    },
    "tags": []
   },
   "outputs": [
    {
     "data": {
      "text/plain": [
       "Datetime              0\n",
       "Tweet Id              0\n",
       "Text                  0\n",
       "Username              0\n",
       "Permalink             0\n",
       "User                  0\n",
       "Outlinks          30059\n",
       "CountLinks        30059\n",
       "ReplyCount            0\n",
       "RetweetCount          0\n",
       "LikeCount             0\n",
       "QuoteCount            0\n",
       "ConversationId        0\n",
       "Language              0\n",
       "Source                0\n",
       "Media             40499\n",
       "QuotedTweet       46438\n",
       "MentionedUsers    32832\n",
       "hashtag               0\n",
       "hastag_counts         0\n",
       "dtype: int64"
      ]
     },
     "execution_count": 8,
     "metadata": {},
     "output_type": "execute_result"
    }
   ],
   "source": [
    "df.isnull().sum()"
   ]
  },
  {
   "cell_type": "code",
   "execution_count": 9,
   "id": "1208627f",
   "metadata": {
    "execution": {
     "iopub.execute_input": "2023-05-05T04:40:42.342545Z",
     "iopub.status.busy": "2023-05-05T04:40:42.342139Z",
     "iopub.status.idle": "2023-05-05T04:40:42.350060Z",
     "shell.execute_reply": "2023-05-05T04:40:42.348797Z"
    },
    "papermill": {
     "duration": 0.029063,
     "end_time": "2023-05-05T04:40:42.352545",
     "exception": false,
     "start_time": "2023-05-05T04:40:42.323482",
     "status": "completed"
    },
    "tags": []
   },
   "outputs": [
    {
     "data": {
      "text/plain": [
       "Index(['Datetime', 'Tweet Id', 'Text', 'Username', 'Permalink', 'User',\n",
       "       'Outlinks', 'CountLinks', 'ReplyCount', 'RetweetCount', 'LikeCount',\n",
       "       'QuoteCount', 'ConversationId', 'Language', 'Source', 'Media',\n",
       "       'QuotedTweet', 'MentionedUsers', 'hashtag', 'hastag_counts'],\n",
       "      dtype='object')"
      ]
     },
     "execution_count": 9,
     "metadata": {},
     "output_type": "execute_result"
    }
   ],
   "source": [
    "# All the columns of dataframe\n",
    "df.columns"
   ]
  },
  {
   "cell_type": "code",
   "execution_count": 10,
   "id": "184c1997",
   "metadata": {
    "execution": {
     "iopub.execute_input": "2023-05-05T04:40:42.389018Z",
     "iopub.status.busy": "2023-05-05T04:40:42.388488Z",
     "iopub.status.idle": "2023-05-05T04:40:42.574105Z",
     "shell.execute_reply": "2023-05-05T04:40:42.572962Z"
    },
    "papermill": {
     "duration": 0.20676,
     "end_time": "2023-05-05T04:40:42.576618",
     "exception": false,
     "start_time": "2023-05-05T04:40:42.369858",
     "status": "completed"
    },
    "tags": []
   },
   "outputs": [
    {
     "data": {
      "text/plain": [
       "0"
      ]
     },
     "execution_count": 10,
     "metadata": {},
     "output_type": "execute_result"
    }
   ],
   "source": [
    "# checking for duplicated rows if any\n",
    "df.duplicated().sum()"
   ]
  },
  {
   "cell_type": "code",
   "execution_count": 11,
   "id": "ed31bd20",
   "metadata": {
    "execution": {
     "iopub.execute_input": "2023-05-05T04:40:42.613724Z",
     "iopub.status.busy": "2023-05-05T04:40:42.612980Z",
     "iopub.status.idle": "2023-05-05T04:40:42.662647Z",
     "shell.execute_reply": "2023-05-05T04:40:42.661473Z"
    },
    "papermill": {
     "duration": 0.071007,
     "end_time": "2023-05-05T04:40:42.665008",
     "exception": false,
     "start_time": "2023-05-05T04:40:42.594001",
     "status": "completed"
    },
    "tags": []
   },
   "outputs": [
    {
     "data": {
      "text/html": [
       "<div>\n",
       "<style scoped>\n",
       "    .dataframe tbody tr th:only-of-type {\n",
       "        vertical-align: middle;\n",
       "    }\n",
       "\n",
       "    .dataframe tbody tr th {\n",
       "        vertical-align: top;\n",
       "    }\n",
       "\n",
       "    .dataframe thead th {\n",
       "        text-align: right;\n",
       "    }\n",
       "</style>\n",
       "<table border=\"1\" class=\"dataframe\">\n",
       "  <thead>\n",
       "    <tr style=\"text-align: right;\">\n",
       "      <th></th>\n",
       "      <th>count</th>\n",
       "      <th>mean</th>\n",
       "      <th>std</th>\n",
       "      <th>min</th>\n",
       "      <th>25%</th>\n",
       "      <th>50%</th>\n",
       "      <th>75%</th>\n",
       "      <th>max</th>\n",
       "    </tr>\n",
       "  </thead>\n",
       "  <tbody>\n",
       "    <tr>\n",
       "      <th>Tweet Id</th>\n",
       "      <td>50001.0</td>\n",
       "      <td>1.617493e+18</td>\n",
       "      <td>1.725682e+14</td>\n",
       "      <td>1.617156e+18</td>\n",
       "      <td>1.617354e+18</td>\n",
       "      <td>1.617525e+18</td>\n",
       "      <td>1.617625e+18</td>\n",
       "      <td>1.617779e+18</td>\n",
       "    </tr>\n",
       "    <tr>\n",
       "      <th>ReplyCount</th>\n",
       "      <td>50001.0</td>\n",
       "      <td>9.291414e-01</td>\n",
       "      <td>2.325171e+01</td>\n",
       "      <td>0.000000e+00</td>\n",
       "      <td>0.000000e+00</td>\n",
       "      <td>0.000000e+00</td>\n",
       "      <td>1.000000e+00</td>\n",
       "      <td>3.098000e+03</td>\n",
       "    </tr>\n",
       "    <tr>\n",
       "      <th>RetweetCount</th>\n",
       "      <td>50001.0</td>\n",
       "      <td>1.498510e+00</td>\n",
       "      <td>4.603006e+01</td>\n",
       "      <td>0.000000e+00</td>\n",
       "      <td>0.000000e+00</td>\n",
       "      <td>0.000000e+00</td>\n",
       "      <td>0.000000e+00</td>\n",
       "      <td>6.815000e+03</td>\n",
       "    </tr>\n",
       "    <tr>\n",
       "      <th>LikeCount</th>\n",
       "      <td>50001.0</td>\n",
       "      <td>9.696326e+00</td>\n",
       "      <td>3.135242e+02</td>\n",
       "      <td>0.000000e+00</td>\n",
       "      <td>0.000000e+00</td>\n",
       "      <td>0.000000e+00</td>\n",
       "      <td>2.000000e+00</td>\n",
       "      <td>5.607300e+04</td>\n",
       "    </tr>\n",
       "    <tr>\n",
       "      <th>QuoteCount</th>\n",
       "      <td>50001.0</td>\n",
       "      <td>2.195356e-01</td>\n",
       "      <td>1.035633e+01</td>\n",
       "      <td>0.000000e+00</td>\n",
       "      <td>0.000000e+00</td>\n",
       "      <td>0.000000e+00</td>\n",
       "      <td>0.000000e+00</td>\n",
       "      <td>1.947000e+03</td>\n",
       "    </tr>\n",
       "    <tr>\n",
       "      <th>ConversationId</th>\n",
       "      <td>50001.0</td>\n",
       "      <td>1.617205e+18</td>\n",
       "      <td>1.005075e+16</td>\n",
       "      <td>6.493609e+17</td>\n",
       "      <td>1.617302e+18</td>\n",
       "      <td>1.617504e+18</td>\n",
       "      <td>1.617607e+18</td>\n",
       "      <td>1.617779e+18</td>\n",
       "    </tr>\n",
       "    <tr>\n",
       "      <th>hastag_counts</th>\n",
       "      <td>50001.0</td>\n",
       "      <td>7.833043e-01</td>\n",
       "      <td>1.975040e+00</td>\n",
       "      <td>0.000000e+00</td>\n",
       "      <td>0.000000e+00</td>\n",
       "      <td>0.000000e+00</td>\n",
       "      <td>1.000000e+00</td>\n",
       "      <td>2.800000e+01</td>\n",
       "    </tr>\n",
       "  </tbody>\n",
       "</table>\n",
       "</div>"
      ],
      "text/plain": [
       "                  count          mean           std           min  \\\n",
       "Tweet Id        50001.0  1.617493e+18  1.725682e+14  1.617156e+18   \n",
       "ReplyCount      50001.0  9.291414e-01  2.325171e+01  0.000000e+00   \n",
       "RetweetCount    50001.0  1.498510e+00  4.603006e+01  0.000000e+00   \n",
       "LikeCount       50001.0  9.696326e+00  3.135242e+02  0.000000e+00   \n",
       "QuoteCount      50001.0  2.195356e-01  1.035633e+01  0.000000e+00   \n",
       "ConversationId  50001.0  1.617205e+18  1.005075e+16  6.493609e+17   \n",
       "hastag_counts   50001.0  7.833043e-01  1.975040e+00  0.000000e+00   \n",
       "\n",
       "                         25%           50%           75%           max  \n",
       "Tweet Id        1.617354e+18  1.617525e+18  1.617625e+18  1.617779e+18  \n",
       "ReplyCount      0.000000e+00  0.000000e+00  1.000000e+00  3.098000e+03  \n",
       "RetweetCount    0.000000e+00  0.000000e+00  0.000000e+00  6.815000e+03  \n",
       "LikeCount       0.000000e+00  0.000000e+00  2.000000e+00  5.607300e+04  \n",
       "QuoteCount      0.000000e+00  0.000000e+00  0.000000e+00  1.947000e+03  \n",
       "ConversationId  1.617302e+18  1.617504e+18  1.617607e+18  1.617779e+18  \n",
       "hastag_counts   0.000000e+00  0.000000e+00  1.000000e+00  2.800000e+01  "
      ]
     },
     "execution_count": 11,
     "metadata": {},
     "output_type": "execute_result"
    }
   ],
   "source": [
    "# statistical description of numerical columns\n",
    "df.describe().T"
   ]
  },
  {
   "cell_type": "code",
   "execution_count": 12,
   "id": "9143e269",
   "metadata": {
    "execution": {
     "iopub.execute_input": "2023-05-05T04:40:42.702445Z",
     "iopub.status.busy": "2023-05-05T04:40:42.701636Z",
     "iopub.status.idle": "2023-05-05T04:40:42.854278Z",
     "shell.execute_reply": "2023-05-05T04:40:42.853109Z"
    },
    "papermill": {
     "duration": 0.174249,
     "end_time": "2023-05-05T04:40:42.856969",
     "exception": false,
     "start_time": "2023-05-05T04:40:42.682720",
     "status": "completed"
    },
    "tags": []
   },
   "outputs": [
    {
     "data": {
      "text/plain": [
       "Datetime          41559\n",
       "Tweet Id          50001\n",
       "Text              49555\n",
       "Username          38433\n",
       "Permalink         50001\n",
       "User              38433\n",
       "Outlinks          13769\n",
       "CountLinks        19485\n",
       "ReplyCount          108\n",
       "RetweetCount        138\n",
       "LikeCount           366\n",
       "QuoteCount           51\n",
       "ConversationId    41430\n",
       "Language             61\n",
       "Source              843\n",
       "Media              9401\n",
       "QuotedTweet        2040\n",
       "MentionedUsers    10704\n",
       "hashtag            7312\n",
       "hastag_counts        27\n",
       "dtype: int64"
      ]
     },
     "execution_count": 12,
     "metadata": {},
     "output_type": "execute_result"
    }
   ],
   "source": [
    "# checking for unique entries in each column\n",
    "df.nunique()"
   ]
  },
  {
   "cell_type": "code",
   "execution_count": 13,
   "id": "92426f7f",
   "metadata": {
    "execution": {
     "iopub.execute_input": "2023-05-05T04:40:42.895841Z",
     "iopub.status.busy": "2023-05-05T04:40:42.895397Z",
     "iopub.status.idle": "2023-05-05T04:40:42.904598Z",
     "shell.execute_reply": "2023-05-05T04:40:42.903177Z"
    },
    "papermill": {
     "duration": 0.031857,
     "end_time": "2023-05-05T04:40:42.907059",
     "exception": false,
     "start_time": "2023-05-05T04:40:42.875202",
     "status": "completed"
    },
    "tags": []
   },
   "outputs": [],
   "source": [
    "# checking for most frequent values in dataframe columns and outputing result in new dataframe \n",
    "def most_occured_values(data):\n",
    "    total = data.count()\n",
    "    occur_df = pd.DataFrame(total)\n",
    "    occur_df.columns = ['Total']\n",
    "    items = []\n",
    "    vals = []\n",
    "    for col in data.columns:\n",
    "        try:\n",
    "            itm = data[col].value_counts().index[0]\n",
    "            val = data[col].value_counts().values[0]\n",
    "            items.append(itm)\n",
    "            vals.append(val)\n",
    "        except Exception as ex:\n",
    "            print(ex)\n",
    "            items.append(0)\n",
    "            vals.append(0)\n",
    "            continue\n",
    "    occur_df['Most Occured value'] = items\n",
    "    occur_df['Frequency'] = vals\n",
    "    occur_df['Percentage'] = np.round(vals / total * 100, 3)\n",
    "    #return(np.transpose(occur_df))\n",
    "    return(occur_df)"
   ]
  },
  {
   "cell_type": "code",
   "execution_count": 14,
   "id": "81ec8578",
   "metadata": {
    "execution": {
     "iopub.execute_input": "2023-05-05T04:40:42.945045Z",
     "iopub.status.busy": "2023-05-05T04:40:42.944253Z",
     "iopub.status.idle": "2023-05-05T04:40:43.302030Z",
     "shell.execute_reply": "2023-05-05T04:40:43.300824Z"
    },
    "papermill": {
     "duration": 0.380168,
     "end_time": "2023-05-05T04:40:43.305237",
     "exception": false,
     "start_time": "2023-05-05T04:40:42.925069",
     "status": "completed"
    },
    "tags": []
   },
   "outputs": [
    {
     "data": {
      "text/html": [
       "<div>\n",
       "<style scoped>\n",
       "    .dataframe tbody tr th:only-of-type {\n",
       "        vertical-align: middle;\n",
       "    }\n",
       "\n",
       "    .dataframe tbody tr th {\n",
       "        vertical-align: top;\n",
       "    }\n",
       "\n",
       "    .dataframe thead th {\n",
       "        text-align: right;\n",
       "    }\n",
       "</style>\n",
       "<table border=\"1\" class=\"dataframe\">\n",
       "  <thead>\n",
       "    <tr style=\"text-align: right;\">\n",
       "      <th></th>\n",
       "      <th>Total</th>\n",
       "      <th>Most Occured value</th>\n",
       "      <th>Frequency</th>\n",
       "      <th>Percentage</th>\n",
       "    </tr>\n",
       "  </thead>\n",
       "  <tbody>\n",
       "    <tr>\n",
       "      <th>Datetime</th>\n",
       "      <td>50001</td>\n",
       "      <td>2023-01-23 17:11:13+00:00</td>\n",
       "      <td>8</td>\n",
       "      <td>0.016</td>\n",
       "    </tr>\n",
       "    <tr>\n",
       "      <th>Tweet Id</th>\n",
       "      <td>50001</td>\n",
       "      <td>1617156270871699456</td>\n",
       "      <td>1</td>\n",
       "      <td>0.002</td>\n",
       "    </tr>\n",
       "    <tr>\n",
       "      <th>Text</th>\n",
       "      <td>50001</td>\n",
       "      <td>@chatgpt_issac AI</td>\n",
       "      <td>164</td>\n",
       "      <td>0.328</td>\n",
       "    </tr>\n",
       "    <tr>\n",
       "      <th>Username</th>\n",
       "      <td>50001</td>\n",
       "      <td>translation_ja</td>\n",
       "      <td>60</td>\n",
       "      <td>0.120</td>\n",
       "    </tr>\n",
       "    <tr>\n",
       "      <th>Permalink</th>\n",
       "      <td>50001</td>\n",
       "      <td>https://twitter.com/mochico0123/status/1617156...</td>\n",
       "      <td>1</td>\n",
       "      <td>0.002</td>\n",
       "    </tr>\n",
       "    <tr>\n",
       "      <th>User</th>\n",
       "      <td>50001</td>\n",
       "      <td>https://twitter.com/translation_ja</td>\n",
       "      <td>60</td>\n",
       "      <td>0.120</td>\n",
       "    </tr>\n",
       "    <tr>\n",
       "      <th>Outlinks</th>\n",
       "      <td>19942</td>\n",
       "      <td>['https://www.ft.com/content/7229ba86-142a-49f...</td>\n",
       "      <td>149</td>\n",
       "      <td>0.747</td>\n",
       "    </tr>\n",
       "    <tr>\n",
       "      <th>CountLinks</th>\n",
       "      <td>19942</td>\n",
       "      <td>['https://t.co/xegxY3jDom']</td>\n",
       "      <td>19</td>\n",
       "      <td>0.095</td>\n",
       "    </tr>\n",
       "    <tr>\n",
       "      <th>ReplyCount</th>\n",
       "      <td>50001</td>\n",
       "      <td>0</td>\n",
       "      <td>36736</td>\n",
       "      <td>73.471</td>\n",
       "    </tr>\n",
       "    <tr>\n",
       "      <th>RetweetCount</th>\n",
       "      <td>50001</td>\n",
       "      <td>0</td>\n",
       "      <td>42416</td>\n",
       "      <td>84.830</td>\n",
       "    </tr>\n",
       "    <tr>\n",
       "      <th>LikeCount</th>\n",
       "      <td>50001</td>\n",
       "      <td>0</td>\n",
       "      <td>27141</td>\n",
       "      <td>54.281</td>\n",
       "    </tr>\n",
       "    <tr>\n",
       "      <th>QuoteCount</th>\n",
       "      <td>50001</td>\n",
       "      <td>0</td>\n",
       "      <td>47665</td>\n",
       "      <td>95.328</td>\n",
       "    </tr>\n",
       "    <tr>\n",
       "      <th>ConversationId</th>\n",
       "      <td>50001</td>\n",
       "      <td>1617162355112124421</td>\n",
       "      <td>264</td>\n",
       "      <td>0.528</td>\n",
       "    </tr>\n",
       "    <tr>\n",
       "      <th>Language</th>\n",
       "      <td>50001</td>\n",
       "      <td>en</td>\n",
       "      <td>32076</td>\n",
       "      <td>64.151</td>\n",
       "    </tr>\n",
       "    <tr>\n",
       "      <th>Source</th>\n",
       "      <td>50001</td>\n",
       "      <td>&lt;a href=\"https://mobile.twitter.com\" rel=\"nofo...</td>\n",
       "      <td>17814</td>\n",
       "      <td>35.627</td>\n",
       "    </tr>\n",
       "    <tr>\n",
       "      <th>Media</th>\n",
       "      <td>9502</td>\n",
       "      <td>[Photo(previewUrl='https://pbs.twimg.com/media...</td>\n",
       "      <td>20</td>\n",
       "      <td>0.210</td>\n",
       "    </tr>\n",
       "    <tr>\n",
       "      <th>QuotedTweet</th>\n",
       "      <td>3563</td>\n",
       "      <td>https://twitter.com/GRDecter/status/1617162355...</td>\n",
       "      <td>209</td>\n",
       "      <td>5.866</td>\n",
       "    </tr>\n",
       "    <tr>\n",
       "      <th>MentionedUsers</th>\n",
       "      <td>17169</td>\n",
       "      <td>[User(username='GRDecter', id=1281457267582177...</td>\n",
       "      <td>332</td>\n",
       "      <td>1.934</td>\n",
       "    </tr>\n",
       "    <tr>\n",
       "      <th>hashtag</th>\n",
       "      <td>50001</td>\n",
       "      <td>[]</td>\n",
       "      <td>36414</td>\n",
       "      <td>72.827</td>\n",
       "    </tr>\n",
       "    <tr>\n",
       "      <th>hastag_counts</th>\n",
       "      <td>50001</td>\n",
       "      <td>0</td>\n",
       "      <td>36414</td>\n",
       "      <td>72.827</td>\n",
       "    </tr>\n",
       "  </tbody>\n",
       "</table>\n",
       "</div>"
      ],
      "text/plain": [
       "                Total                                 Most Occured value  \\\n",
       "Datetime        50001                          2023-01-23 17:11:13+00:00   \n",
       "Tweet Id        50001                                1617156270871699456   \n",
       "Text            50001                                  @chatgpt_issac AI   \n",
       "Username        50001                                     translation_ja   \n",
       "Permalink       50001  https://twitter.com/mochico0123/status/1617156...   \n",
       "User            50001                 https://twitter.com/translation_ja   \n",
       "Outlinks        19942  ['https://www.ft.com/content/7229ba86-142a-49f...   \n",
       "CountLinks      19942                        ['https://t.co/xegxY3jDom']   \n",
       "ReplyCount      50001                                                  0   \n",
       "RetweetCount    50001                                                  0   \n",
       "LikeCount       50001                                                  0   \n",
       "QuoteCount      50001                                                  0   \n",
       "ConversationId  50001                                1617162355112124421   \n",
       "Language        50001                                                 en   \n",
       "Source          50001  <a href=\"https://mobile.twitter.com\" rel=\"nofo...   \n",
       "Media            9502  [Photo(previewUrl='https://pbs.twimg.com/media...   \n",
       "QuotedTweet      3563  https://twitter.com/GRDecter/status/1617162355...   \n",
       "MentionedUsers  17169  [User(username='GRDecter', id=1281457267582177...   \n",
       "hashtag         50001                                                 []   \n",
       "hastag_counts   50001                                                  0   \n",
       "\n",
       "                Frequency  Percentage  \n",
       "Datetime                8       0.016  \n",
       "Tweet Id                1       0.002  \n",
       "Text                  164       0.328  \n",
       "Username               60       0.120  \n",
       "Permalink               1       0.002  \n",
       "User                   60       0.120  \n",
       "Outlinks              149       0.747  \n",
       "CountLinks             19       0.095  \n",
       "ReplyCount          36736      73.471  \n",
       "RetweetCount        42416      84.830  \n",
       "LikeCount           27141      54.281  \n",
       "QuoteCount          47665      95.328  \n",
       "ConversationId        264       0.528  \n",
       "Language            32076      64.151  \n",
       "Source              17814      35.627  \n",
       "Media                  20       0.210  \n",
       "QuotedTweet           209       5.866  \n",
       "MentionedUsers        332       1.934  \n",
       "hashtag             36414      72.827  \n",
       "hastag_counts       36414      72.827  "
      ]
     },
     "execution_count": 14,
     "metadata": {},
     "output_type": "execute_result"
    }
   ],
   "source": [
    "most_occured_values(df)"
   ]
  },
  {
   "cell_type": "code",
   "execution_count": 15,
   "id": "cb3371cc",
   "metadata": {
    "execution": {
     "iopub.execute_input": "2023-05-05T04:40:43.346373Z",
     "iopub.status.busy": "2023-05-05T04:40:43.344924Z",
     "iopub.status.idle": "2023-05-05T04:40:43.364168Z",
     "shell.execute_reply": "2023-05-05T04:40:43.362845Z"
    },
    "papermill": {
     "duration": 0.041534,
     "end_time": "2023-05-05T04:40:43.366741",
     "exception": false,
     "start_time": "2023-05-05T04:40:43.325207",
     "status": "completed"
    },
    "tags": []
   },
   "outputs": [
    {
     "data": {
      "text/plain": [
       "array(['https://twitter.com/mochico0123',\n",
       "       'https://twitter.com/Caput_LupinumSG', 'https://twitter.com/ciffi',\n",
       "       ..., 'https://twitter.com/marcopiccinini',\n",
       "       'https://twitter.com/EuniceNyandat',\n",
       "       'https://twitter.com/AmericoSD_69'], dtype=object)"
      ]
     },
     "execution_count": 15,
     "metadata": {},
     "output_type": "execute_result"
    }
   ],
   "source": [
    "df[\"User\"].unique()"
   ]
  },
  {
   "cell_type": "code",
   "execution_count": 16,
   "id": "d177791d",
   "metadata": {
    "execution": {
     "iopub.execute_input": "2023-05-05T04:40:43.404877Z",
     "iopub.status.busy": "2023-05-05T04:40:43.404437Z",
     "iopub.status.idle": "2023-05-05T04:40:43.437412Z",
     "shell.execute_reply": "2023-05-05T04:40:43.436283Z"
    },
    "papermill": {
     "duration": 0.05469,
     "end_time": "2023-05-05T04:40:43.439897",
     "exception": false,
     "start_time": "2023-05-05T04:40:43.385207",
     "status": "completed"
    },
    "tags": []
   },
   "outputs": [
    {
     "data": {
      "text/plain": [
       "https://twitter.com/translation_ja    60\n",
       "https://twitter.com/SaveToNotion      47\n",
       "https://twitter.com/trandanhmmo       44\n",
       "https://twitter.com/richardkimphd     43\n",
       "https://twitter.com/VeilleCyber3      38\n",
       "                                      ..\n",
       "https://twitter.com/masayume_32        1\n",
       "https://twitter.com/WRoughSketch       1\n",
       "https://twitter.com/ayazfarooqui       1\n",
       "https://twitter.com/Technology_GD      1\n",
       "https://twitter.com/AmericoSD_69       1\n",
       "Name: User, Length: 38433, dtype: int64"
      ]
     },
     "execution_count": 16,
     "metadata": {},
     "output_type": "execute_result"
    }
   ],
   "source": [
    "df[\"User\"].value_counts()"
   ]
  },
  {
   "cell_type": "code",
   "execution_count": 17,
   "id": "3a3b296c",
   "metadata": {
    "execution": {
     "iopub.execute_input": "2023-05-05T04:40:43.479025Z",
     "iopub.status.busy": "2023-05-05T04:40:43.478258Z",
     "iopub.status.idle": "2023-05-05T04:40:43.986141Z",
     "shell.execute_reply": "2023-05-05T04:40:43.985201Z"
    },
    "papermill": {
     "duration": 0.530371,
     "end_time": "2023-05-05T04:40:43.988721",
     "exception": false,
     "start_time": "2023-05-05T04:40:43.458350",
     "status": "completed"
    },
    "tags": []
   },
   "outputs": [
    {
     "data": {
      "image/png": "[encoded data removed]",
      "text/plain": [
       "<Figure size 640x480 with 1 Axes>"
      ]
     },
     "metadata": {},
     "output_type": "display_data"
    }
   ],
   "source": [
    "sns.countplot(data=df, x='User', order=df[\"User\"].value_counts().index[:15])\n",
    "plt.xticks(rotation=90)\n",
    "plt.show()"
   ]
  },
  {
   "cell_type": "code",
   "execution_count": 18,
   "id": "509d3cfd",
   "metadata": {
    "execution": {
     "iopub.execute_input": "2023-05-05T04:40:44.031934Z",
     "iopub.status.busy": "2023-05-05T04:40:44.031462Z",
     "iopub.status.idle": "2023-05-05T04:40:44.036594Z",
     "shell.execute_reply": "2023-05-05T04:40:44.035225Z"
    },
    "papermill": {
     "duration": 0.029905,
     "end_time": "2023-05-05T04:40:44.039257",
     "exception": false,
     "start_time": "2023-05-05T04:40:44.009352",
     "status": "completed"
    },
    "tags": []
   },
   "outputs": [],
   "source": [
    "# plotting distribution for various Numerical columns"
   ]
  },
  {
   "cell_type": "markdown",
   "id": "1113abea",
   "metadata": {
    "papermill": {
     "duration": 0.019338,
     "end_time": "2023-05-05T04:40:44.078443",
     "exception": false,
     "start_time": "2023-05-05T04:40:44.059105",
     "status": "completed"
    },
    "tags": []
   },
   "source": [
    "**Plotting distribution for various numerical columns**"
   ]
  },
  {
   "cell_type": "code",
   "execution_count": 19,
   "id": "b94050c0",
   "metadata": {
    "execution": {
     "iopub.execute_input": "2023-05-05T04:40:44.120898Z",
     "iopub.status.busy": "2023-05-05T04:40:44.119995Z",
     "iopub.status.idle": "2023-05-05T04:40:44.130334Z",
     "shell.execute_reply": "2023-05-05T04:40:44.129165Z"
    },
    "papermill": {
     "duration": 0.0345,
     "end_time": "2023-05-05T04:40:44.132838",
     "exception": false,
     "start_time": "2023-05-05T04:40:44.098338",
     "status": "completed"
    },
    "tags": []
   },
   "outputs": [
    {
     "data": {
      "text/plain": [
       "0      36736\n",
       "1       9430\n",
       "2       1801\n",
       "3        653\n",
       "4        333\n",
       "       ...  \n",
       "45         1\n",
       "147        1\n",
       "106        1\n",
       "166        1\n",
       "331        1\n",
       "Name: ReplyCount, Length: 108, dtype: int64"
      ]
     },
     "execution_count": 19,
     "metadata": {},
     "output_type": "execute_result"
    }
   ],
   "source": [
    "df[\"ReplyCount\"].value_counts()"
   ]
  },
  {
   "cell_type": "code",
   "execution_count": 20,
   "id": "7f08c961",
   "metadata": {
    "execution": {
     "iopub.execute_input": "2023-05-05T04:40:44.175671Z",
     "iopub.status.busy": "2023-05-05T04:40:44.174750Z",
     "iopub.status.idle": "2023-05-05T04:40:44.184145Z",
     "shell.execute_reply": "2023-05-05T04:40:44.182825Z"
    },
    "papermill": {
     "duration": 0.033667,
     "end_time": "2023-05-05T04:40:44.186628",
     "exception": false,
     "start_time": "2023-05-05T04:40:44.152961",
     "status": "completed"
    },
    "tags": []
   },
   "outputs": [
    {
     "data": {
      "text/plain": [
       "array([   1,    0,   23,    4,   37,    2,    3,  209,  149,  126,   17,\n",
       "         22,    5,   54,   34,   21,   13, 3098,   69, 1421,   10,    8,\n",
       "          6,    9,    7,   43,   15,   11,   12,  111,   29,  164,  286,\n",
       "         28,   20,  496,   14,   31,   40,   47,  374,   33,  338,   26,\n",
       "        100,   39,   18,   59,  154,   16,   55,  114,  476,   44,   24,\n",
       "        119,   99,   42,   36,   27,   68,   92,  159,   19,   88,   35,\n",
       "        446,   52,   45,  147,  106,  166,   32,   89,  165,   50,  130,\n",
       "         51,   95, 1455, 3044,   96,  490,  194,   48,   74,  248,   72,\n",
       "         80,   57,   25,   93,   38, 1110,  161,  183,   41,  135,   79,\n",
       "        103,   71,   49,   30,   63,  176,   67,  777,  331])"
      ]
     },
     "execution_count": 20,
     "metadata": {},
     "output_type": "execute_result"
    }
   ],
   "source": [
    "df[\"ReplyCount\"].unique()"
   ]
  },
  {
   "cell_type": "code",
   "execution_count": 21,
   "id": "0f7097ad",
   "metadata": {
    "execution": {
     "iopub.execute_input": "2023-05-05T04:40:44.228221Z",
     "iopub.status.busy": "2023-05-05T04:40:44.227455Z",
     "iopub.status.idle": "2023-05-05T04:40:44.441024Z",
     "shell.execute_reply": "2023-05-05T04:40:44.439720Z"
    },
    "papermill": {
     "duration": 0.237337,
     "end_time": "2023-05-05T04:40:44.443663",
     "exception": false,
     "start_time": "2023-05-05T04:40:44.206326",
     "status": "completed"
    },
    "tags": []
   },
   "outputs": [
    {
     "data": {
      "image/png": "[encoded data removed]",
      "text/plain": [
       "<Figure size 640x480 with 1 Axes>"
      ]
     },
     "metadata": {},
     "output_type": "display_data"
    }
   ],
   "source": [
    "sns.countplot(data=df, x='ReplyCount', order=df[\"ReplyCount\"].value_counts().index[:5])\n",
    "plt.xticks(rotation=45)\n",
    "plt.show()"
   ]
  },
  {
   "cell_type": "code",
   "execution_count": 22,
   "id": "c705586f",
   "metadata": {
    "execution": {
     "iopub.execute_input": "2023-05-05T04:40:44.487971Z",
     "iopub.status.busy": "2023-05-05T04:40:44.487105Z",
     "iopub.status.idle": "2023-05-05T04:40:44.497468Z",
     "shell.execute_reply": "2023-05-05T04:40:44.496404Z"
    },
    "papermill": {
     "duration": 0.035167,
     "end_time": "2023-05-05T04:40:44.499971",
     "exception": false,
     "start_time": "2023-05-05T04:40:44.464804",
     "status": "completed"
    },
    "tags": []
   },
   "outputs": [
    {
     "data": {
      "text/plain": [
       "0      42416\n",
       "1       3925\n",
       "2       1204\n",
       "3        620\n",
       "4        365\n",
       "       ...  \n",
       "221        1\n",
       "222        1\n",
       "337        1\n",
       "236        1\n",
       "248        1\n",
       "Name: RetweetCount, Length: 138, dtype: int64"
      ]
     },
     "execution_count": 22,
     "metadata": {},
     "output_type": "execute_result"
    }
   ],
   "source": [
    "df[\"RetweetCount\"].value_counts()"
   ]
  },
  {
   "cell_type": "code",
   "execution_count": 23,
   "id": "e5fa9edd",
   "metadata": {
    "execution": {
     "iopub.execute_input": "2023-05-05T04:40:44.544069Z",
     "iopub.status.busy": "2023-05-05T04:40:44.542678Z",
     "iopub.status.idle": "2023-05-05T04:40:44.552255Z",
     "shell.execute_reply": "2023-05-05T04:40:44.551129Z"
    },
    "papermill": {
     "duration": 0.034046,
     "end_time": "2023-05-05T04:40:44.554580",
     "exception": false,
     "start_time": "2023-05-05T04:40:44.520534",
     "status": "completed"
    },
    "tags": []
   },
   "outputs": [
    {
     "data": {
      "text/plain": [
       "array([   0,    1,    5,    6,  542,   40,   49,   18,    3,    2,   16,\n",
       "          4,  112,   39,   36, 1094,   12, 6815,   10,   20,    7,   58,\n",
       "         23,   11,   15,   45,   37,    8,   31,   19,  160,   27,    9,\n",
       "         38,   34,   14,  125,   17,   74,  461,   68,   26,   13, 2627,\n",
       "         47,   53,   88,   21,   25,  221,  334,   50,   30,   22,  252,\n",
       "         33,  713,  597,   76,   43,   28,  227, 1732,   66,   98,  136,\n",
       "         92,  114,  730,   64,   24,  202, 1874,   67,   29,  186,  118,\n",
       "         97,   52,  108, 2463,   59,   32,   93,   35,   56,  564, 3987,\n",
       "        170,   55,  257, 1307,   95,   62,   44,   57,   89,   54,   83,\n",
       "        222,  337,  236,  376,  121, 1533,  458,   78,   61,   51, 2203,\n",
       "         70,  428,   42,  140,   46, 1534,  164,  162,  213,  139,  289,\n",
       "       1113,   48,  418,  206,  107,  148,   99,  516,   41,  452,  630,\n",
       "        176,   79,   69,  679, 2082,  248])"
      ]
     },
     "execution_count": 23,
     "metadata": {},
     "output_type": "execute_result"
    }
   ],
   "source": [
    "df[\"RetweetCount\"].unique()"
   ]
  },
  {
   "cell_type": "code",
   "execution_count": 24,
   "id": "5e2b4b7b",
   "metadata": {
    "execution": {
     "iopub.execute_input": "2023-05-05T04:40:44.598211Z",
     "iopub.status.busy": "2023-05-05T04:40:44.597059Z",
     "iopub.status.idle": "2023-05-05T04:40:44.812726Z",
     "shell.execute_reply": "2023-05-05T04:40:44.811526Z"
    },
    "papermill": {
     "duration": 0.240066,
     "end_time": "2023-05-05T04:40:44.815405",
     "exception": false,
     "start_time": "2023-05-05T04:40:44.575339",
     "status": "completed"
    },
    "tags": []
   },
   "outputs": [
    {
     "data": {
      "image/png": "[encoded data removed]",
      "text/plain": [
       "<Figure size 640x480 with 1 Axes>"
      ]
     },
     "metadata": {},
     "output_type": "display_data"
    }
   ],
   "source": [
    "sns.countplot(data=df, x='RetweetCount', order=df[\"RetweetCount\"].value_counts().index[:5])\n",
    "plt.xticks(rotation=45)\n",
    "plt.show()"
   ]
  },
  {
   "cell_type": "code",
   "execution_count": 25,
   "id": "a76546ff",
   "metadata": {
    "execution": {
     "iopub.execute_input": "2023-05-05T04:40:44.859677Z",
     "iopub.status.busy": "2023-05-05T04:40:44.858910Z",
     "iopub.status.idle": "2023-05-05T04:40:44.867463Z",
     "shell.execute_reply": "2023-05-05T04:40:44.866652Z"
    },
    "papermill": {
     "duration": 0.032986,
     "end_time": "2023-05-05T04:40:44.869559",
     "exception": false,
     "start_time": "2023-05-05T04:40:44.836573",
     "status": "completed"
    },
    "tags": []
   },
   "outputs": [
    {
     "data": {
      "text/plain": [
       "0      27141\n",
       "1       9490\n",
       "2       3873\n",
       "3       2086\n",
       "4       1241\n",
       "       ...  \n",
       "242        1\n",
       "202        1\n",
       "347        1\n",
       "404        1\n",
       "424        1\n",
       "Name: LikeCount, Length: 366, dtype: int64"
      ]
     },
     "execution_count": 25,
     "metadata": {},
     "output_type": "execute_result"
    }
   ],
   "source": [
    "df[\"LikeCount\"].value_counts()"
   ]
  },
  {
   "cell_type": "code",
   "execution_count": 26,
   "id": "09db9070",
   "metadata": {
    "execution": {
     "iopub.execute_input": "2023-05-05T04:40:44.914102Z",
     "iopub.status.busy": "2023-05-05T04:40:44.913652Z",
     "iopub.status.idle": "2023-05-05T04:40:44.923015Z",
     "shell.execute_reply": "2023-05-05T04:40:44.921652Z"
    },
    "papermill": {
     "duration": 0.034418,
     "end_time": "2023-05-05T04:40:44.925571",
     "exception": false,
     "start_time": "2023-05-05T04:40:44.891153",
     "status": "completed"
    },
    "tags": []
   },
   "outputs": [
    {
     "data": {
      "text/plain": [
       "array([    5,     4,     2,     1,     0,     3,    66,    20,  9125,\n",
       "           7,   348,   607,    11,     9,   404,     8,     6,    68,\n",
       "         329,    10,    17,    15,  1905,   211,    16,    22,    14,\n",
       "         381,    13,  5682,    42,   190,    57, 56073,    26,    38,\n",
       "          30,    97,    24,    19,    12,    50,    18,    29,    51,\n",
       "          33,    41,    55,    44,   663,    75,    54,    39,    21,\n",
       "          37,   252,    40,    47,   390,    87,   177,    23,    84,\n",
       "          28,    31,   131,   251,    86,  1055,   171,    65,   144,\n",
       "          58,   111,    71,    74,   127,    36,    32,   234,   654,\n",
       "         222,   711,  3952,    43,    46,   273,   168,   349,   239,\n",
       "         118,   112,    64,    27,   228,    25,    56,   186,    93,\n",
       "       12557,   733,    98,    61,    35,   100,   147,   322,    49,\n",
       "         383,   189,    67,    45,    34,   135,   132,   113,    76,\n",
       "         759,   165,   164,    48,    72,   220,   107,  1608,  2250,\n",
       "         302,    73,   149,   289,    82,   429,   108,   834,   106,\n",
       "         114,    62,   176,   123,   858,    90,   128,   185,    91,\n",
       "        4413,  9677,   368,    59,   415,   104,   334,   103,    92,\n",
       "          94,   297,   121,    88,   208,   236,   153,    70,  1466,\n",
       "          69,    60,   102,  9946,    53,   262,    85,  1182,   279,\n",
       "         187,   162,    78,    77,   443,   284,   116,   673,   589,\n",
       "         701,   110,   274,    89,   254,   355,   109,   122,    52,\n",
       "        1732,  6979,   292,   140,   326,   226,   130,   247,   859,\n",
       "         372, 16856,   835,   115,   138,    81,   708,   642,   160,\n",
       "         338,   174,   503,   396,    63,   656,   481,   169,   126,\n",
       "         154,   117,   196,  1239,   419,   311, 10153,   191,   137,\n",
       "         161,   276,   492,   242,   202,   347,    83,   214,  2297,\n",
       "       17150,   158,   505,   324,  1238,  1517,  5513,   151,   200,\n",
       "         178,   789,   767,   125,    96,   167,   163,   248,   134,\n",
       "         188,   263,   235,    79,   458,    99,   430,   343,   150,\n",
       "         166,   210,  1213,  1707,   277,   124,   215,   245,   152,\n",
       "         218,  2353,   143,  3529,   170,   339,   244,   342,   954,\n",
       "          80,   509,   206,   270,   173, 11520,   373,   394,   253,\n",
       "         139,   209,   728,  1189,   386,   133,  1082,   497,   360,\n",
       "         267,   105,  5911,   364,  1077,   384,   194,   213,  1935,\n",
       "         643,   316,   421,   225,   385,   588,   233,   148,   318,\n",
       "         354,   195,  1850,   616,   303,  3732,  2712,  1199,   641,\n",
       "        4643,   451,   203,   644,  2770,   320,  2223,   181,  3915,\n",
       "         327,   129,   145,   249,   436,   480,   119,   455,   101,\n",
       "         752,   180,   309,  1118,   428,   238,   490,   281,   156,\n",
       "        4492,   280,   219,    95,   374,   136,   282,   216, 12158,\n",
       "         217,  2184,   506,   142,   398,   424])"
      ]
     },
     "execution_count": 26,
     "metadata": {},
     "output_type": "execute_result"
    }
   ],
   "source": [
    "df[\"LikeCount\"].unique()"
   ]
  },
  {
   "cell_type": "code",
   "execution_count": 27,
   "id": "8a8856b6",
   "metadata": {
    "execution": {
     "iopub.execute_input": "2023-05-05T04:40:44.972002Z",
     "iopub.status.busy": "2023-05-05T04:40:44.971221Z",
     "iopub.status.idle": "2023-05-05T04:40:45.206861Z",
     "shell.execute_reply": "2023-05-05T04:40:45.205621Z"
    },
    "papermill": {
     "duration": 0.261596,
     "end_time": "2023-05-05T04:40:45.209251",
     "exception": false,
     "start_time": "2023-05-05T04:40:44.947655",
     "status": "completed"
    },
    "tags": []
   },
   "outputs": [
    {
     "data": {
      "image/png": "[encoded data removed]",
      "text/plain": [
       "<Figure size 640x480 with 1 Axes>"
      ]
     },
     "metadata": {},
     "output_type": "display_data"
    }
   ],
   "source": [
    "sns.countplot(data=df, x='LikeCount', order=df[\"LikeCount\"].value_counts().index[:10])\n",
    "plt.xticks(rotation=45)\n",
    "plt.show()"
   ]
  },
  {
   "cell_type": "code",
   "execution_count": 28,
   "id": "7d07a91f",
   "metadata": {
    "execution": {
     "iopub.execute_input": "2023-05-05T04:40:45.255018Z",
     "iopub.status.busy": "2023-05-05T04:40:45.254075Z",
     "iopub.status.idle": "2023-05-05T04:40:45.261950Z",
     "shell.execute_reply": "2023-05-05T04:40:45.260814Z"
    },
    "papermill": {
     "duration": 0.033162,
     "end_time": "2023-05-05T04:40:45.264078",
     "exception": false,
     "start_time": "2023-05-05T04:40:45.230916",
     "status": "completed"
    },
    "tags": []
   },
   "outputs": [
    {
     "data": {
      "text/plain": [
       "array([   0,    1,    2,   15,    6,    8,    3,   14,   45, 1947,    9,\n",
       "          4,    5,   23,  110,  726,   11,   27,    7,   87,   10,  126,\n",
       "         16,   22,  205,  298,   13,   80,   38,   81,   29,   24,   12,\n",
       "        495,  216,   25,   37,   57,   48,   19,  413,   18,  374,   20,\n",
       "         60,   46,   21,   42,   17,   55,  456])"
      ]
     },
     "execution_count": 28,
     "metadata": {},
     "output_type": "execute_result"
    }
   ],
   "source": [
    "df[\"QuoteCount\"].unique()"
   ]
  },
  {
   "cell_type": "code",
   "execution_count": 29,
   "id": "280c7f1a",
   "metadata": {
    "execution": {
     "iopub.execute_input": "2023-05-05T04:40:45.309482Z",
     "iopub.status.busy": "2023-05-05T04:40:45.308706Z",
     "iopub.status.idle": "2023-05-05T04:40:45.317316Z",
     "shell.execute_reply": "2023-05-05T04:40:45.316493Z"
    },
    "papermill": {
     "duration": 0.033738,
     "end_time": "2023-05-05T04:40:45.319455",
     "exception": false,
     "start_time": "2023-05-05T04:40:45.285717",
     "status": "completed"
    },
    "tags": []
   },
   "outputs": [
    {
     "data": {
      "text/plain": [
       "0       47665\n",
       "1        1575\n",
       "2         337\n",
       "3         147\n",
       "4          70\n",
       "5          34\n",
       "7          28\n",
       "6          23\n",
       "9          16\n",
       "8          13\n",
       "10         13\n",
       "11         10\n",
       "12          8\n",
       "27          6\n",
       "14          5\n",
       "25          4\n",
       "15          4\n",
       "24          3\n",
       "16          3\n",
       "37          2\n",
       "19          2\n",
       "60          2\n",
       "29          2\n",
       "38          2\n",
       "57          1\n",
       "48          1\n",
       "21          1\n",
       "413         1\n",
       "46          1\n",
       "374         1\n",
       "20          1\n",
       "55          1\n",
       "17          1\n",
       "42          1\n",
       "18          1\n",
       "298         1\n",
       "216         1\n",
       "495         1\n",
       "81          1\n",
       "80          1\n",
       "13          1\n",
       "205         1\n",
       "22          1\n",
       "126         1\n",
       "87          1\n",
       "726         1\n",
       "110         1\n",
       "23          1\n",
       "1947        1\n",
       "45          1\n",
       "456         1\n",
       "Name: QuoteCount, dtype: int64"
      ]
     },
     "execution_count": 29,
     "metadata": {},
     "output_type": "execute_result"
    }
   ],
   "source": [
    "df[\"QuoteCount\"].value_counts()"
   ]
  },
  {
   "cell_type": "code",
   "execution_count": 30,
   "id": "c77080a1",
   "metadata": {
    "execution": {
     "iopub.execute_input": "2023-05-05T04:40:45.365715Z",
     "iopub.status.busy": "2023-05-05T04:40:45.364965Z",
     "iopub.status.idle": "2023-05-05T04:40:45.569282Z",
     "shell.execute_reply": "2023-05-05T04:40:45.568145Z"
    },
    "papermill": {
     "duration": 0.230026,
     "end_time": "2023-05-05T04:40:45.571575",
     "exception": false,
     "start_time": "2023-05-05T04:40:45.341549",
     "status": "completed"
    },
    "tags": []
   },
   "outputs": [
    {
     "data": {
      "image/png": "[encoded data removed]",
      "text/plain": [
       "<Figure size 640x480 with 1 Axes>"
      ]
     },
     "metadata": {},
     "output_type": "display_data"
    }
   ],
   "source": [
    "sns.countplot(data=df, x='QuoteCount', order=df[\"QuoteCount\"].value_counts().index[:5])\n",
    "plt.xticks(rotation=45)\n",
    "plt.show()"
   ]
  },
  {
   "cell_type": "code",
   "execution_count": 31,
   "id": "56689a2d",
   "metadata": {
    "execution": {
     "iopub.execute_input": "2023-05-05T04:40:45.620145Z",
     "iopub.status.busy": "2023-05-05T04:40:45.619446Z",
     "iopub.status.idle": "2023-05-05T04:40:45.630339Z",
     "shell.execute_reply": "2023-05-05T04:40:45.629306Z"
    },
    "papermill": {
     "duration": 0.036854,
     "end_time": "2023-05-05T04:40:45.632804",
     "exception": false,
     "start_time": "2023-05-05T04:40:45.595950",
     "status": "completed"
    },
    "tags": []
   },
   "outputs": [
    {
     "data": {
      "text/plain": [
       "array(['ja', 'en', 'de', 'tr', 'pl', 'fr', 'es', 'pt', 'lo', 'no', 'ca',\n",
       "       'zh', 'qme', 'th', 'ne', 'ko', 'und', 'nl', 'fa', 'it', 'da', 'fi',\n",
       "       'eu', 'hi', 'ar', 'sv', 'in', 'ru', 'qht', 'tl', 'hu', 'cs', 'uk',\n",
       "       'iw', 'et', 'cy', 'bg', 'ht', 'el', 'vi', 'sl', 'kn', 'ro', 'lt',\n",
       "       'ur', 'zxx', 'ml', 'mr', 'lv', 'gu', 'qam', 'is', 'ta', 'te', 'pa',\n",
       "       'sd', 'am', 'sr', 'hy', 'or', 'bn'], dtype=object)"
      ]
     },
     "execution_count": 31,
     "metadata": {},
     "output_type": "execute_result"
    }
   ],
   "source": [
    "df[\"Language\"].unique()"
   ]
  },
  {
   "cell_type": "code",
   "execution_count": 32,
   "id": "3eba68ca",
   "metadata": {
    "execution": {
     "iopub.execute_input": "2023-05-05T04:40:45.679233Z",
     "iopub.status.busy": "2023-05-05T04:40:45.678839Z",
     "iopub.status.idle": "2023-05-05T04:40:45.690943Z",
     "shell.execute_reply": "2023-05-05T04:40:45.689814Z"
    },
    "papermill": {
     "duration": 0.038354,
     "end_time": "2023-05-05T04:40:45.693369",
     "exception": false,
     "start_time": "2023-05-05T04:40:45.655015",
     "status": "completed"
    },
    "tags": []
   },
   "outputs": [
    {
     "data": {
      "text/plain": [
       "en    32076\n",
       "ja     5046\n",
       "es     3315\n",
       "fr     2492\n",
       "de     1207\n",
       "      ...  \n",
       "sd        1\n",
       "am        1\n",
       "hy        1\n",
       "or        1\n",
       "bn        1\n",
       "Name: Language, Length: 61, dtype: int64"
      ]
     },
     "execution_count": 32,
     "metadata": {},
     "output_type": "execute_result"
    }
   ],
   "source": [
    "df[\"Language\"].value_counts()"
   ]
  },
  {
   "cell_type": "code",
   "execution_count": 33,
   "id": "c9953b76",
   "metadata": {
    "execution": {
     "iopub.execute_input": "2023-05-05T04:40:45.740109Z",
     "iopub.status.busy": "2023-05-05T04:40:45.739698Z",
     "iopub.status.idle": "2023-05-05T04:40:46.000038Z",
     "shell.execute_reply": "2023-05-05T04:40:45.998833Z"
    },
    "papermill": {
     "duration": 0.286857,
     "end_time": "2023-05-05T04:40:46.002700",
     "exception": false,
     "start_time": "2023-05-05T04:40:45.715843",
     "status": "completed"
    },
    "tags": []
   },
   "outputs": [
    {
     "data": {
      "image/png": "[encoded data removed]",
      "text/plain": [
       "<Figure size 640x480 with 1 Axes>"
      ]
     },
     "metadata": {},
     "output_type": "display_data"
    }
   ],
   "source": [
    "sns.countplot(data=df, x='Language', order=df[\"Language\"].value_counts().index[:10])\n",
    "plt.xticks(rotation=45)\n",
    "plt.show()"
   ]
  },
  {
   "cell_type": "code",
   "execution_count": 34,
   "id": "e57b3fe2",
   "metadata": {
    "execution": {
     "iopub.execute_input": "2023-05-05T04:40:46.051170Z",
     "iopub.status.busy": "2023-05-05T04:40:46.050782Z",
     "iopub.status.idle": "2023-05-05T04:40:46.063728Z",
     "shell.execute_reply": "2023-05-05T04:40:46.062676Z"
    },
    "papermill": {
     "duration": 0.039719,
     "end_time": "2023-05-05T04:40:46.065909",
     "exception": false,
     "start_time": "2023-05-05T04:40:46.026190",
     "status": "completed"
    },
    "tags": []
   },
   "outputs": [
    {
     "data": {
      "text/plain": [
       "array(['[]', \"['#ChatGPT']\", \"['#ChatGPT', '#midjourney']\", ...,\n",
       "       \"['#GautamAdani', '#ChatGPT.', '#']\", \"['#LastWeekTonight']\",\n",
       "       \"['#ChatGPT', '#Chatbot,', '#KI', '#AI', '#Dialog', '#simuliert.']\"],\n",
       "      dtype=object)"
      ]
     },
     "execution_count": 34,
     "metadata": {},
     "output_type": "execute_result"
    }
   ],
   "source": [
    "df[\"hashtag\"].unique()"
   ]
  },
  {
   "cell_type": "code",
   "execution_count": 35,
   "id": "70832c1a",
   "metadata": {
    "execution": {
     "iopub.execute_input": "2023-05-05T04:40:46.113603Z",
     "iopub.status.busy": "2023-05-05T04:40:46.113178Z",
     "iopub.status.idle": "2023-05-05T04:40:46.128931Z",
     "shell.execute_reply": "2023-05-05T04:40:46.127813Z"
    },
    "papermill": {
     "duration": 0.0423,
     "end_time": "2023-05-05T04:40:46.131098",
     "exception": false,
     "start_time": "2023-05-05T04:40:46.088798",
     "status": "completed"
    },
    "tags": []
   },
   "outputs": [
    {
     "data": {
      "text/plain": [
       "[]                                                                                                                                                                                                                                                           36414\n",
       "['#ChatGPT']                                                                                                                                                                                                                                                  2899\n",
       "['#chatgpt']                                                                                                                                                                                                                                                   314\n",
       "['#chatGPT']                                                                                                                                                                                                                                                   232\n",
       "['#ChatGPT', '#AI']                                                                                                                                                                                                                                            130\n",
       "                                                                                                                                                                                                                                                             ...  \n",
       "['#Crypto', '#cryptocurrency', '#chatGPT']                                                                                                                                                                                                                       1\n",
       "['#ai', '#aiart', '#chatgpt', '#midjourney', '#midjourneyart', '#dalle2', '#stablediffusion', '#revit', '#revitarchitecture', '#bim', '#architecture', '#archviz', '#parametricdesign', '#parametricarchitecture', '#parametric', '#computationaldesign']        1\n",
       "['#cahtgpt', '#humanwritersandchatgpt']                                                                                                                                                                                                                          1\n",
       "['#chatgpt', '#chatbot', '#gpt3', '#ai', '#AIXC', '#TheMathCompany']                                                                                                                                                                                             1\n",
       "['#ChatGPT', '#Chatbot,', '#KI', '#AI', '#Dialog', '#simuliert.']                                                                                                                                                                                                1\n",
       "Name: hashtag, Length: 7312, dtype: int64"
      ]
     },
     "execution_count": 35,
     "metadata": {},
     "output_type": "execute_result"
    }
   ],
   "source": [
    "df[\"hashtag\"].value_counts()"
   ]
  },
  {
   "cell_type": "code",
   "execution_count": 36,
   "id": "18ea2353",
   "metadata": {
    "execution": {
     "iopub.execute_input": "2023-05-05T04:40:46.178999Z",
     "iopub.status.busy": "2023-05-05T04:40:46.178532Z",
     "iopub.status.idle": "2023-05-05T04:40:46.618113Z",
     "shell.execute_reply": "2023-05-05T04:40:46.616734Z"
    },
    "papermill": {
     "duration": 0.466036,
     "end_time": "2023-05-05T04:40:46.620349",
     "exception": false,
     "start_time": "2023-05-05T04:40:46.154313",
     "status": "completed"
    },
    "tags": []
   },
   "outputs": [
    {
     "data": {
      "image/png": "[encoded data removed]",
      "text/plain": [
       "<Figure size 640x480 with 1 Axes>"
      ]
     },
     "metadata": {},
     "output_type": "display_data"
    }
   ],
   "source": [
    "sns.countplot(data=df, x='hashtag', order=df[\"hashtag\"].value_counts().index[:10])\n",
    "plt.xticks(rotation=90)\n",
    "plt.show()"
   ]
  },
  {
   "cell_type": "code",
   "execution_count": null,
   "id": "cb193748",
   "metadata": {
    "papermill": {
     "duration": 0.034906,
     "end_time": "2023-05-05T04:40:46.687406",
     "exception": false,
     "start_time": "2023-05-05T04:40:46.652500",
     "status": "completed"
    },
    "tags": []
   },
   "outputs": [],
   "source": []
  },
  {
   "cell_type": "code",
   "execution_count": 37,
   "id": "9be36f7e",
   "metadata": {
    "execution": {
     "iopub.execute_input": "2023-05-05T04:40:46.737191Z",
     "iopub.status.busy": "2023-05-05T04:40:46.736023Z",
     "iopub.status.idle": "2023-05-05T04:40:46.743709Z",
     "shell.execute_reply": "2023-05-05T04:40:46.742920Z"
    },
    "papermill": {
     "duration": 0.034804,
     "end_time": "2023-05-05T04:40:46.745856",
     "exception": false,
     "start_time": "2023-05-05T04:40:46.711052",
     "status": "completed"
    },
    "tags": []
   },
   "outputs": [
    {
     "data": {
      "text/plain": [
       "array([ 0,  1,  2,  4, 11,  5,  3, 10, 15,  8, 12,  9,  6,  7, 13, 14, 16,\n",
       "       23, 20, 18, 21, 24, 22, 25, 17, 28, 19])"
      ]
     },
     "execution_count": 37,
     "metadata": {},
     "output_type": "execute_result"
    }
   ],
   "source": [
    "df[\"hastag_counts\"].unique()"
   ]
  },
  {
   "cell_type": "code",
   "execution_count": 38,
   "id": "293ecc17",
   "metadata": {
    "execution": {
     "iopub.execute_input": "2023-05-05T04:40:46.795944Z",
     "iopub.status.busy": "2023-05-05T04:40:46.795254Z",
     "iopub.status.idle": "2023-05-05T04:40:46.803627Z",
     "shell.execute_reply": "2023-05-05T04:40:46.802446Z"
    },
    "papermill": {
     "duration": 0.036445,
     "end_time": "2023-05-05T04:40:46.806149",
     "exception": false,
     "start_time": "2023-05-05T04:40:46.769704",
     "status": "completed"
    },
    "tags": []
   },
   "outputs": [
    {
     "data": {
      "text/plain": [
       "0     36414\n",
       "1      5516\n",
       "2      2772\n",
       "3      1944\n",
       "4      1150\n",
       "5       651\n",
       "6       396\n",
       "7       295\n",
       "8       229\n",
       "9       124\n",
       "10       98\n",
       "13       76\n",
       "11       69\n",
       "12       51\n",
       "15       44\n",
       "16       43\n",
       "14       41\n",
       "18       25\n",
       "17       14\n",
       "23        9\n",
       "19        9\n",
       "25        8\n",
       "21        7\n",
       "20        7\n",
       "24        6\n",
       "22        2\n",
       "28        1\n",
       "Name: hastag_counts, dtype: int64"
      ]
     },
     "execution_count": 38,
     "metadata": {},
     "output_type": "execute_result"
    }
   ],
   "source": [
    "df[\"hastag_counts\"].value_counts()"
   ]
  },
  {
   "cell_type": "code",
   "execution_count": 39,
   "id": "a1ad4cd5",
   "metadata": {
    "execution": {
     "iopub.execute_input": "2023-05-05T04:40:46.855873Z",
     "iopub.status.busy": "2023-05-05T04:40:46.855424Z",
     "iopub.status.idle": "2023-05-05T04:40:47.066691Z",
     "shell.execute_reply": "2023-05-05T04:40:47.065837Z"
    },
    "papermill": {
     "duration": 0.239146,
     "end_time": "2023-05-05T04:40:47.069037",
     "exception": false,
     "start_time": "2023-05-05T04:40:46.829891",
     "status": "completed"
    },
    "tags": []
   },
   "outputs": [
    {
     "data": {
      "image/png": "[encoded data removed]",
      "text/plain": [
       "<Figure size 640x480 with 1 Axes>"
      ]
     },
     "metadata": {},
     "output_type": "display_data"
    }
   ],
   "source": [
    "sns.countplot(data=df, x='hastag_counts', order=df[\"hastag_counts\"].value_counts().index[:5])\n",
    "plt.xticks(rotation=45)\n",
    "plt.show()"
   ]
  },
  {
   "cell_type": "code",
   "execution_count": 40,
   "id": "2d46870b",
   "metadata": {
    "execution": {
     "iopub.execute_input": "2023-05-05T04:40:47.168800Z",
     "iopub.status.busy": "2023-05-05T04:40:47.167552Z",
     "iopub.status.idle": "2023-05-05T04:40:47.172184Z",
     "shell.execute_reply": "2023-05-05T04:40:47.171313Z"
    },
    "papermill": {
     "duration": 0.032364,
     "end_time": "2023-05-05T04:40:47.174248",
     "exception": false,
     "start_time": "2023-05-05T04:40:47.141884",
     "status": "completed"
    },
    "tags": []
   },
   "outputs": [],
   "source": [
    "# Text Preprocessing"
   ]
  },
  {
   "cell_type": "code",
   "execution_count": 41,
   "id": "eeda14b3",
   "metadata": {
    "execution": {
     "iopub.execute_input": "2023-05-05T04:40:47.225268Z",
     "iopub.status.busy": "2023-05-05T04:40:47.224472Z",
     "iopub.status.idle": "2023-05-05T04:40:47.229931Z",
     "shell.execute_reply": "2023-05-05T04:40:47.229107Z"
    },
    "papermill": {
     "duration": 0.033402,
     "end_time": "2023-05-05T04:40:47.232021",
     "exception": false,
     "start_time": "2023-05-05T04:40:47.198619",
     "status": "completed"
    },
    "tags": []
   },
   "outputs": [],
   "source": [
    "def remove_pattern(text, pattern_regex):\n",
    "    r = re.findall(pattern_regex, text)\n",
    "    for i in r:\n",
    "        text = re.sub(i, '', text)\n",
    "    \n",
    "    return text "
   ]
  },
  {
   "cell_type": "code",
   "execution_count": 42,
   "id": "11349f50",
   "metadata": {
    "execution": {
     "iopub.execute_input": "2023-05-05T04:40:47.282694Z",
     "iopub.status.busy": "2023-05-05T04:40:47.282244Z",
     "iopub.status.idle": "2023-05-05T04:40:48.095803Z",
     "shell.execute_reply": "2023-05-05T04:40:48.094572Z"
    },
    "papermill": {
     "duration": 0.842108,
     "end_time": "2023-05-05T04:40:48.098449",
     "exception": false,
     "start_time": "2023-05-05T04:40:47.256341",
     "status": "completed"
    },
    "tags": []
   },
   "outputs": [
    {
     "data": {
      "text/html": [
       "<div>\n",
       "<style scoped>\n",
       "    .dataframe tbody tr th:only-of-type {\n",
       "        vertical-align: middle;\n",
       "    }\n",
       "\n",
       "    .dataframe tbody tr th {\n",
       "        vertical-align: top;\n",
       "    }\n",
       "\n",
       "    .dataframe thead th {\n",
       "        text-align: right;\n",
       "    }\n",
       "</style>\n",
       "<table border=\"1\" class=\"dataframe\">\n",
       "  <thead>\n",
       "    <tr style=\"text-align: right;\">\n",
       "      <th></th>\n",
       "      <th>Text</th>\n",
       "      <th>tidy_text</th>\n",
       "    </tr>\n",
       "  </thead>\n",
       "  <tbody>\n",
       "    <tr>\n",
       "      <th>0</th>\n",
       "      <td>ChatGPTで遊ぶの忘れてた！！\\n書類作るコード書いてみてほしいのと、\\nどこまで思考整...</td>\n",
       "      <td>ChatGPTで遊ぶの忘れてた！！\\n書類作るコード書いてみてほしいのと、\\nどこまで思考整...</td>\n",
       "    </tr>\n",
       "    <tr>\n",
       "      <th>1</th>\n",
       "      <td>@AlexandrovnaIng Prohibition of ChatGPT has be...</td>\n",
       "      <td>@AlexandrovnaIng Prohibition of ChatGPT has be...</td>\n",
       "    </tr>\n",
       "    <tr>\n",
       "      <th>2</th>\n",
       "      <td>Schaut Euch an, was @fobizz @DianaKnodel alles...</td>\n",
       "      <td>Schaut Euch an, was @fobizz @DianaKnodel alles...</td>\n",
       "    </tr>\n",
       "    <tr>\n",
       "      <th>3</th>\n",
       "      <td>Bow down to chatGPT 🫡..... https://t.co/ENTSzi...</td>\n",
       "      <td>Bow down to chatGPT 🫡..... https://t.co/ENTSzi...</td>\n",
       "    </tr>\n",
       "    <tr>\n",
       "      <th>4</th>\n",
       "      <td>Profilinde vatan, Türkiye falan yazan bireyler...</td>\n",
       "      <td>Profilinde vatan, Türkiye falan yazan bireyler...</td>\n",
       "    </tr>\n",
       "  </tbody>\n",
       "</table>\n",
       "</div>"
      ],
      "text/plain": [
       "                                                Text  \\\n",
       "0  ChatGPTで遊ぶの忘れてた！！\\n書類作るコード書いてみてほしいのと、\\nどこまで思考整...   \n",
       "1  @AlexandrovnaIng Prohibition of ChatGPT has be...   \n",
       "2  Schaut Euch an, was @fobizz @DianaKnodel alles...   \n",
       "3  Bow down to chatGPT 🫡..... https://t.co/ENTSzi...   \n",
       "4  Profilinde vatan, Türkiye falan yazan bireyler...   \n",
       "\n",
       "                                           tidy_text  \n",
       "0  ChatGPTで遊ぶの忘れてた！！\\n書類作るコード書いてみてほしいのと、\\nどこまで思考整...  \n",
       "1  @AlexandrovnaIng Prohibition of ChatGPT has be...  \n",
       "2  Schaut Euch an, was @fobizz @DianaKnodel alles...  \n",
       "3  Bow down to chatGPT 🫡..... https://t.co/ENTSzi...  \n",
       "4  Profilinde vatan, Türkiye falan yazan bireyler...  "
      ]
     },
     "execution_count": 42,
     "metadata": {},
     "output_type": "execute_result"
    }
   ],
   "source": [
    "# We are keeping cleaned tweets in a new column called 'tidy_tweets'\n",
    "df['tidy_text'] = np.vectorize(remove_pattern)(df['Text'], \"@[\\w]*: | *RT*\")\n",
    "df[[\"Text\", \"tidy_text\"]].head(5)"
   ]
  },
  {
   "cell_type": "code",
   "execution_count": 43,
   "id": "8d2a3bf1",
   "metadata": {
    "execution": {
     "iopub.execute_input": "2023-05-05T04:40:48.151959Z",
     "iopub.status.busy": "2023-05-05T04:40:48.151178Z",
     "iopub.status.idle": "2023-05-05T04:40:48.162909Z",
     "shell.execute_reply": "2023-05-05T04:40:48.161742Z"
    },
    "papermill": {
     "duration": 0.040854,
     "end_time": "2023-05-05T04:40:48.165488",
     "exception": false,
     "start_time": "2023-05-05T04:40:48.124634",
     "status": "completed"
    },
    "tags": []
   },
   "outputs": [
    {
     "data": {
      "text/html": [
       "<div>\n",
       "<style scoped>\n",
       "    .dataframe tbody tr th:only-of-type {\n",
       "        vertical-align: middle;\n",
       "    }\n",
       "\n",
       "    .dataframe tbody tr th {\n",
       "        vertical-align: top;\n",
       "    }\n",
       "\n",
       "    .dataframe thead th {\n",
       "        text-align: right;\n",
       "    }\n",
       "</style>\n",
       "<table border=\"1\" class=\"dataframe\">\n",
       "  <thead>\n",
       "    <tr style=\"text-align: right;\">\n",
       "      <th></th>\n",
       "      <th>tidy_text</th>\n",
       "    </tr>\n",
       "  </thead>\n",
       "  <tbody>\n",
       "    <tr>\n",
       "      <th>0</th>\n",
       "      <td>ChatGPTで遊ぶの忘れてた！！\\n書類作るコード書いてみてほしいのと、\\nどこまで思考整...</td>\n",
       "    </tr>\n",
       "    <tr>\n",
       "      <th>1</th>\n",
       "      <td>@AlexandrovnaIng Prohibition of ChatGPT has be...</td>\n",
       "    </tr>\n",
       "    <tr>\n",
       "      <th>2</th>\n",
       "      <td>Schaut Euch an, was @fobizz @DianaKnodel alles...</td>\n",
       "    </tr>\n",
       "    <tr>\n",
       "      <th>3</th>\n",
       "      <td>Bow down to chatGPT 🫡..... https://t.co/ENTSzi...</td>\n",
       "    </tr>\n",
       "    <tr>\n",
       "      <th>4</th>\n",
       "      <td>Profilinde vatan, Türkiye falan yazan bireyler...</td>\n",
       "    </tr>\n",
       "  </tbody>\n",
       "</table>\n",
       "</div>"
      ],
      "text/plain": [
       "                                           tidy_text\n",
       "0  ChatGPTで遊ぶの忘れてた！！\\n書類作るコード書いてみてほしいのと、\\nどこまで思考整...\n",
       "1  @AlexandrovnaIng Prohibition of ChatGPT has be...\n",
       "2  Schaut Euch an, was @fobizz @DianaKnodel alles...\n",
       "3  Bow down to chatGPT 🫡..... https://t.co/ENTSzi...\n",
       "4  Profilinde vatan, Türkiye falan yazan bireyler..."
      ]
     },
     "execution_count": 43,
     "metadata": {},
     "output_type": "execute_result"
    }
   ],
   "source": [
    "df_tweets= df[[\"tidy_text\"]]\n",
    "df_tweets.head()"
   ]
  },
  {
   "cell_type": "code",
   "execution_count": 44,
   "id": "43283e90",
   "metadata": {
    "execution": {
     "iopub.execute_input": "2023-05-05T04:40:48.217755Z",
     "iopub.status.busy": "2023-05-05T04:40:48.217323Z",
     "iopub.status.idle": "2023-05-05T04:40:51.406671Z",
     "shell.execute_reply": "2023-05-05T04:40:51.405529Z"
    },
    "papermill": {
     "duration": 3.218728,
     "end_time": "2023-05-05T04:40:51.409369",
     "exception": false,
     "start_time": "2023-05-05T04:40:48.190641",
     "status": "completed"
    },
    "tags": []
   },
   "outputs": [
    {
     "data": {
      "text/html": [
       "<div>\n",
       "<style scoped>\n",
       "    .dataframe tbody tr th:only-of-type {\n",
       "        vertical-align: middle;\n",
       "    }\n",
       "\n",
       "    .dataframe tbody tr th {\n",
       "        vertical-align: top;\n",
       "    }\n",
       "\n",
       "    .dataframe thead th {\n",
       "        text-align: right;\n",
       "    }\n",
       "</style>\n",
       "<table border=\"1\" class=\"dataframe\">\n",
       "  <thead>\n",
       "    <tr style=\"text-align: right;\">\n",
       "      <th></th>\n",
       "      <th>Text</th>\n",
       "      <th>tidy_text</th>\n",
       "    </tr>\n",
       "  </thead>\n",
       "  <tbody>\n",
       "    <tr>\n",
       "      <th>0</th>\n",
       "      <td>ChatGPTで遊ぶの忘れてた！！\\n書類作るコード書いてみてほしいのと、\\nどこまで思考整...</td>\n",
       "      <td>ChatGPTで遊ぶの忘れてた！！ 書類作るコード書いてみてほしいのと、 どこまで思考整理付...</td>\n",
       "    </tr>\n",
       "    <tr>\n",
       "      <th>1</th>\n",
       "      <td>@AlexandrovnaIng Prohibition of ChatGPT has be...</td>\n",
       "      <td>@AlexandrovnaIng Prohibition of ChatGPT has be...</td>\n",
       "    </tr>\n",
       "    <tr>\n",
       "      <th>2</th>\n",
       "      <td>Schaut Euch an, was @fobizz @DianaKnodel alles...</td>\n",
       "      <td>Schaut Euch an, was @fobizz @DianaKnodel alles...</td>\n",
       "    </tr>\n",
       "    <tr>\n",
       "      <th>3</th>\n",
       "      <td>Bow down to chatGPT 🫡..... https://t.co/ENTSzi...</td>\n",
       "      <td>Bow down to chatGPT 🫡.....</td>\n",
       "    </tr>\n",
       "    <tr>\n",
       "      <th>4</th>\n",
       "      <td>Profilinde vatan, Türkiye falan yazan bireyler...</td>\n",
       "      <td>Profilinde vatan, Türkiye falan yazan bireyler...</td>\n",
       "    </tr>\n",
       "    <tr>\n",
       "      <th>5</th>\n",
       "      <td>ChatGPT’nin bilinmeyen arka planı: Ucuz iş güc...</td>\n",
       "      <td>ChatGPT’nin bilinmeyen arka planı: Ucuz iş güc...</td>\n",
       "    </tr>\n",
       "    <tr>\n",
       "      <th>6</th>\n",
       "      <td>ChatGPT runs 10K Nvidia training GPUs with pot...</td>\n",
       "      <td>ChatGPT runs 10K Nvidia training GPUs with pot...</td>\n",
       "    </tr>\n",
       "    <tr>\n",
       "      <th>7</th>\n",
       "      <td>@SWENGDAD There is repetitive work in every jo...</td>\n",
       "      <td>@SWENGDAD There is repetitive work in every jo...</td>\n",
       "    </tr>\n",
       "    <tr>\n",
       "      <th>8</th>\n",
       "      <td>I created a fictional jewelry brand using Chat...</td>\n",
       "      <td>I created a fictional jewelry brand using Chat...</td>\n",
       "    </tr>\n",
       "    <tr>\n",
       "      <th>9</th>\n",
       "      <td>It will look similar to irobot. The company wi...</td>\n",
       "      <td>It will look similar to irobot. The company wi...</td>\n",
       "    </tr>\n",
       "  </tbody>\n",
       "</table>\n",
       "</div>"
      ],
      "text/plain": [
       "                                                Text  \\\n",
       "0  ChatGPTで遊ぶの忘れてた！！\\n書類作るコード書いてみてほしいのと、\\nどこまで思考整...   \n",
       "1  @AlexandrovnaIng Prohibition of ChatGPT has be...   \n",
       "2  Schaut Euch an, was @fobizz @DianaKnodel alles...   \n",
       "3  Bow down to chatGPT 🫡..... https://t.co/ENTSzi...   \n",
       "4  Profilinde vatan, Türkiye falan yazan bireyler...   \n",
       "5  ChatGPT’nin bilinmeyen arka planı: Ucuz iş güc...   \n",
       "6  ChatGPT runs 10K Nvidia training GPUs with pot...   \n",
       "7  @SWENGDAD There is repetitive work in every jo...   \n",
       "8  I created a fictional jewelry brand using Chat...   \n",
       "9  It will look similar to irobot. The company wi...   \n",
       "\n",
       "                                           tidy_text  \n",
       "0  ChatGPTで遊ぶの忘れてた！！ 書類作るコード書いてみてほしいのと、 どこまで思考整理付...  \n",
       "1  @AlexandrovnaIng Prohibition of ChatGPT has be...  \n",
       "2  Schaut Euch an, was @fobizz @DianaKnodel alles...  \n",
       "3                         Bow down to chatGPT 🫡.....  \n",
       "4  Profilinde vatan, Türkiye falan yazan bireyler...  \n",
       "5  ChatGPT’nin bilinmeyen arka planı: Ucuz iş güc...  \n",
       "6  ChatGPT runs 10K Nvidia training GPUs with pot...  \n",
       "7  @SWENGDAD There is repetitive work in every jo...  \n",
       "8  I created a fictional jewelry brand using Chat...  \n",
       "9  It will look similar to irobot. The company wi...  "
      ]
     },
     "execution_count": 44,
     "metadata": {},
     "output_type": "execute_result"
    }
   ],
   "source": [
    "# Removing http/https\n",
    "\n",
    "cleaned_tweets = []\n",
    "\n",
    "for index, row in df.iterrows():\n",
    "    \n",
    "    # Here we are filtering out all the words that contains link\n",
    "    \n",
    "    words_without_links = [word for word in row.tidy_text.split() if 'http' not in word]\n",
    "    cleaned_tweets.append(' '.join(words_without_links))\n",
    "\n",
    "df['tidy_text'] = cleaned_tweets\n",
    "df[[\"Text\", \"tidy_text\"]].head(10)"
   ]
  },
  {
   "cell_type": "code",
   "execution_count": 45,
   "id": "7570d99d",
   "metadata": {
    "execution": {
     "iopub.execute_input": "2023-05-05T04:40:51.463403Z",
     "iopub.status.busy": "2023-05-05T04:40:51.462463Z",
     "iopub.status.idle": "2023-05-05T04:40:51.503387Z",
     "shell.execute_reply": "2023-05-05T04:40:51.502218Z"
    },
    "papermill": {
     "duration": 0.071005,
     "end_time": "2023-05-05T04:40:51.506159",
     "exception": false,
     "start_time": "2023-05-05T04:40:51.435154",
     "status": "completed"
    },
    "tags": []
   },
   "outputs": [
    {
     "data": {
      "text/html": [
       "<div>\n",
       "<style scoped>\n",
       "    .dataframe tbody tr th:only-of-type {\n",
       "        vertical-align: middle;\n",
       "    }\n",
       "\n",
       "    .dataframe tbody tr th {\n",
       "        vertical-align: top;\n",
       "    }\n",
       "\n",
       "    .dataframe thead th {\n",
       "        text-align: right;\n",
       "    }\n",
       "</style>\n",
       "<table border=\"1\" class=\"dataframe\">\n",
       "  <thead>\n",
       "    <tr style=\"text-align: right;\">\n",
       "      <th></th>\n",
       "      <th>Text</th>\n",
       "      <th>tidy_text</th>\n",
       "    </tr>\n",
       "  </thead>\n",
       "  <tbody>\n",
       "    <tr>\n",
       "      <th>0</th>\n",
       "      <td>ChatGPTで遊ぶの忘れてた！！\\n書類作るコード書いてみてほしいのと、\\nどこまで思考整...</td>\n",
       "      <td>ChatGPTで遊ぶの忘れてた！！ 書類作るコード書いてみてほしいのと、 どこまで思考整理付...</td>\n",
       "    </tr>\n",
       "    <tr>\n",
       "      <th>1</th>\n",
       "      <td>@AlexandrovnaIng Prohibition of ChatGPT has be...</td>\n",
       "      <td>@AlexandrovnaIng Prohibition of ChatGPT has be...</td>\n",
       "    </tr>\n",
       "    <tr>\n",
       "      <th>2</th>\n",
       "      <td>Schaut Euch an, was @fobizz @DianaKnodel alles...</td>\n",
       "      <td>Schaut Euch an, was @fobizz @DianaKnodel alles...</td>\n",
       "    </tr>\n",
       "    <tr>\n",
       "      <th>3</th>\n",
       "      <td>Bow down to chatGPT 🫡..... https://t.co/ENTSzi...</td>\n",
       "      <td>Bow down to chatGPT 🫡.....</td>\n",
       "    </tr>\n",
       "    <tr>\n",
       "      <th>4</th>\n",
       "      <td>Profilinde vatan, Türkiye falan yazan bireyler...</td>\n",
       "      <td>Profilinde vatan, Türkiye falan yazan bireyler...</td>\n",
       "    </tr>\n",
       "  </tbody>\n",
       "</table>\n",
       "</div>"
      ],
      "text/plain": [
       "                                                Text  \\\n",
       "0  ChatGPTで遊ぶの忘れてた！！\\n書類作るコード書いてみてほしいのと、\\nどこまで思考整...   \n",
       "1  @AlexandrovnaIng Prohibition of ChatGPT has be...   \n",
       "2  Schaut Euch an, was @fobizz @DianaKnodel alles...   \n",
       "3  Bow down to chatGPT 🫡..... https://t.co/ENTSzi...   \n",
       "4  Profilinde vatan, Türkiye falan yazan bireyler...   \n",
       "\n",
       "                                           tidy_text  \n",
       "0  ChatGPTで遊ぶの忘れてた！！ 書類作るコード書いてみてほしいのと、 どこまで思考整理付...  \n",
       "1  @AlexandrovnaIng Prohibition of ChatGPT has be...  \n",
       "2  Schaut Euch an, was @fobizz @DianaKnodel alles...  \n",
       "3                         Bow down to chatGPT 🫡.....  \n",
       "4  Profilinde vatan, Türkiye falan yazan bireyler...  "
      ]
     },
     "execution_count": 45,
     "metadata": {},
     "output_type": "execute_result"
    }
   ],
   "source": [
    "# removing empty text\n",
    "df = df[df['tidy_text']!='']\n",
    "df[[\"Text\", \"tidy_text\"]].head(5)"
   ]
  },
  {
   "cell_type": "code",
   "execution_count": 46,
   "id": "688225fe",
   "metadata": {
    "execution": {
     "iopub.execute_input": "2023-05-05T04:40:51.560000Z",
     "iopub.status.busy": "2023-05-05T04:40:51.559314Z",
     "iopub.status.idle": "2023-05-05T04:40:51.586665Z",
     "shell.execute_reply": "2023-05-05T04:40:51.585546Z"
    },
    "papermill": {
     "duration": 0.057202,
     "end_time": "2023-05-05T04:40:51.589228",
     "exception": false,
     "start_time": "2023-05-05T04:40:51.532026",
     "status": "completed"
    },
    "tags": []
   },
   "outputs": [
    {
     "data": {
      "text/plain": [
       "(49969, 21)"
      ]
     },
     "execution_count": 46,
     "metadata": {},
     "output_type": "execute_result"
    }
   ],
   "source": [
    "#v Resetting Index \n",
    "df = df.reset_index(drop=True)\n",
    "df.shape"
   ]
  },
  {
   "cell_type": "code",
   "execution_count": 47,
   "id": "7b9d8cfb",
   "metadata": {
    "execution": {
     "iopub.execute_input": "2023-05-05T04:40:51.643281Z",
     "iopub.status.busy": "2023-05-05T04:40:51.642004Z",
     "iopub.status.idle": "2023-05-05T04:40:51.887600Z",
     "shell.execute_reply": "2023-05-05T04:40:51.886207Z"
    },
    "papermill": {
     "duration": 0.276279,
     "end_time": "2023-05-05T04:40:51.890774",
     "exception": false,
     "start_time": "2023-05-05T04:40:51.614495",
     "status": "completed"
    },
    "tags": []
   },
   "outputs": [
    {
     "name": "stderr",
     "output_type": "stream",
     "text": [
      "/var/folders/9x/sg299rqx48g64901_k2jkppm0000gq/T/ipykernel_3030/2129550658.py:3: FutureWarning: The default value of regex will change from True to False in a future version.\n",
      "  df['All_tidy_text'] = df['tidy_text'].str.replace(\"[^a-zA-Z# ]\", \"\")\n"
     ]
    }
   ],
   "source": [
    "# Removing punctuations, numbers and special characters\n",
    "\n",
    "df['All_tidy_text'] = df['tidy_text'].str.replace(\"[^a-zA-Z# ]\", \"\")"
   ]
  },
  {
   "cell_type": "code",
   "execution_count": 48,
   "id": "1fe6083c",
   "metadata": {
    "execution": {
     "iopub.execute_input": "2023-05-05T04:40:51.944877Z",
     "iopub.status.busy": "2023-05-05T04:40:51.944432Z",
     "iopub.status.idle": "2023-05-05T04:40:52.276197Z",
     "shell.execute_reply": "2023-05-05T04:40:52.274838Z"
    },
    "papermill": {
     "duration": 0.36181,
     "end_time": "2023-05-05T04:40:52.278679",
     "exception": false,
     "start_time": "2023-05-05T04:40:51.916869",
     "status": "completed"
    },
    "tags": []
   },
   "outputs": [
    {
     "name": "stderr",
     "output_type": "stream",
     "text": [
      "[nltk_data] Downloading package stopwords to\n",
      "[nltk_data]     /Users/student/nltk_data...\n",
      "[nltk_data]   Package stopwords is already up-to-date!\n",
      "[nltk_data] Downloading package wordnet to /Users/student/nltk_data...\n",
      "[nltk_data]   Package wordnet is already up-to-date!\n",
      "[nltk_data] Downloading package vader_lexicon to\n",
      "[nltk_data]     /Users/student/nltk_data...\n",
      "[nltk_data]   Package vader_lexicon is already up-to-date!\n",
      "[nltk_data] Downloading package averaged_perceptron_tagger to\n",
      "[nltk_data]     /Users/student/nltk_data...\n",
      "[nltk_data]   Package averaged_perceptron_tagger is already up-to-\n",
      "[nltk_data]       date!\n",
      "[nltk_data] Downloading package movie_reviews to\n",
      "[nltk_data]     /Users/student/nltk_data...\n",
      "[nltk_data]   Package movie_reviews is already up-to-date!\n",
      "[nltk_data] Downloading package punkt to /Users/student/nltk_data...\n",
      "[nltk_data]   Package punkt is already up-to-date!\n",
      "[nltk_data] Downloading package conll2000 to\n",
      "[nltk_data]     /Users/student/nltk_data...\n",
      "[nltk_data]   Package conll2000 is already up-to-date!\n",
      "[nltk_data] Downloading package brown to /Users/student/nltk_data...\n",
      "[nltk_data]   Package brown is already up-to-date!\n"
     ]
    }
   ],
   "source": [
    "# downloading stopwords corpus\n",
    "nltk.download('stopwords')\n",
    "nltk.download('wordnet')\n",
    "nltk.download('vader_lexicon')\n",
    "nltk.download('averaged_perceptron_tagger')\n",
    "nltk.download('movie_reviews')\n",
    "nltk.download('punkt')\n",
    "nltk.download('conll2000')\n",
    "nltk.download('brown')\n",
    "stopwords = set(stopwords.words(\"english\"))"
   ]
  },
  {
   "cell_type": "code",
   "execution_count": 49,
   "id": "49a7936a",
   "metadata": {
    "execution": {
     "iopub.execute_input": "2023-05-05T04:40:52.332736Z",
     "iopub.status.busy": "2023-05-05T04:40:52.332341Z",
     "iopub.status.idle": "2023-05-05T04:40:55.688433Z",
     "shell.execute_reply": "2023-05-05T04:40:55.687236Z"
    },
    "papermill": {
     "duration": 3.386607,
     "end_time": "2023-05-05T04:40:55.690984",
     "exception": false,
     "start_time": "2023-05-05T04:40:52.304377",
     "status": "completed"
    },
    "tags": []
   },
   "outputs": [
    {
     "data": {
      "text/html": [
       "<div>\n",
       "<style scoped>\n",
       "    .dataframe tbody tr th:only-of-type {\n",
       "        vertical-align: middle;\n",
       "    }\n",
       "\n",
       "    .dataframe tbody tr th {\n",
       "        vertical-align: top;\n",
       "    }\n",
       "\n",
       "    .dataframe thead th {\n",
       "        text-align: right;\n",
       "    }\n",
       "</style>\n",
       "<table border=\"1\" class=\"dataframe\">\n",
       "  <thead>\n",
       "    <tr style=\"text-align: right;\">\n",
       "      <th></th>\n",
       "      <th>Text</th>\n",
       "      <th>tidy_text</th>\n",
       "      <th>All_tidy_text</th>\n",
       "    </tr>\n",
       "  </thead>\n",
       "  <tbody>\n",
       "    <tr>\n",
       "      <th>0</th>\n",
       "      <td>ChatGPTで遊ぶの忘れてた！！\\n書類作るコード書いてみてほしいのと、\\nどこまで思考整...</td>\n",
       "      <td>ChatGPTで遊ぶの忘れてた！！ 書類作るコード書いてみてほしいのと、 どこまで思考整理付...</td>\n",
       "      <td>ChatGPT</td>\n",
       "    </tr>\n",
       "    <tr>\n",
       "      <th>1</th>\n",
       "      <td>@AlexandrovnaIng Prohibition of ChatGPT has be...</td>\n",
       "      <td>@AlexandrovnaIng Prohibition of ChatGPT has be...</td>\n",
       "      <td>AlexandrovnaIng Prohibition ChatGPT added hono...</td>\n",
       "    </tr>\n",
       "    <tr>\n",
       "      <th>2</th>\n",
       "      <td>Schaut Euch an, was @fobizz @DianaKnodel alles...</td>\n",
       "      <td>Schaut Euch an, was @fobizz @DianaKnodel alles...</td>\n",
       "      <td>Schaut Euch fobizz DianaKnodel alles auf die P...</td>\n",
       "    </tr>\n",
       "    <tr>\n",
       "      <th>3</th>\n",
       "      <td>Bow down to chatGPT 🫡..... https://t.co/ENTSzi...</td>\n",
       "      <td>Bow down to chatGPT 🫡.....</td>\n",
       "      <td>Bow chatGPT</td>\n",
       "    </tr>\n",
       "    <tr>\n",
       "      <th>4</th>\n",
       "      <td>Profilinde vatan, Türkiye falan yazan bireyler...</td>\n",
       "      <td>Profilinde vatan, Türkiye falan yazan bireyler...</td>\n",
       "      <td>Profilinde vatan Trkiye falan yazan bireylerin...</td>\n",
       "    </tr>\n",
       "    <tr>\n",
       "      <th>5</th>\n",
       "      <td>ChatGPT’nin bilinmeyen arka planı: Ucuz iş güc...</td>\n",
       "      <td>ChatGPT’nin bilinmeyen arka planı: Ucuz iş güc...</td>\n",
       "      <td>ChatGPTnin bilinmeyen arka plan Ucuz gc eviri ...</td>\n",
       "    </tr>\n",
       "    <tr>\n",
       "      <th>6</th>\n",
       "      <td>ChatGPT runs 10K Nvidia training GPUs with pot...</td>\n",
       "      <td>ChatGPT runs 10K Nvidia training GPUs with pot...</td>\n",
       "      <td>ChatGPT runs K Nvidia training GPUs potential ...</td>\n",
       "    </tr>\n",
       "    <tr>\n",
       "      <th>7</th>\n",
       "      <td>@SWENGDAD There is repetitive work in every jo...</td>\n",
       "      <td>@SWENGDAD There is repetitive work in every jo...</td>\n",
       "      <td>SWENGDAD There repetitive work every job lots ...</td>\n",
       "    </tr>\n",
       "    <tr>\n",
       "      <th>8</th>\n",
       "      <td>I created a fictional jewelry brand using Chat...</td>\n",
       "      <td>I created a fictional jewelry brand using Chat...</td>\n",
       "      <td>I created fictional jewelry brand using ChatGP...</td>\n",
       "    </tr>\n",
       "    <tr>\n",
       "      <th>9</th>\n",
       "      <td>It will look similar to irobot. The company wi...</td>\n",
       "      <td>It will look similar to irobot. The company wi...</td>\n",
       "      <td>It look similar irobot The company install min...</td>\n",
       "    </tr>\n",
       "  </tbody>\n",
       "</table>\n",
       "</div>"
      ],
      "text/plain": [
       "                                                Text  \\\n",
       "0  ChatGPTで遊ぶの忘れてた！！\\n書類作るコード書いてみてほしいのと、\\nどこまで思考整...   \n",
       "1  @AlexandrovnaIng Prohibition of ChatGPT has be...   \n",
       "2  Schaut Euch an, was @fobizz @DianaKnodel alles...   \n",
       "3  Bow down to chatGPT 🫡..... https://t.co/ENTSzi...   \n",
       "4  Profilinde vatan, Türkiye falan yazan bireyler...   \n",
       "5  ChatGPT’nin bilinmeyen arka planı: Ucuz iş güc...   \n",
       "6  ChatGPT runs 10K Nvidia training GPUs with pot...   \n",
       "7  @SWENGDAD There is repetitive work in every jo...   \n",
       "8  I created a fictional jewelry brand using Chat...   \n",
       "9  It will look similar to irobot. The company wi...   \n",
       "\n",
       "                                           tidy_text  \\\n",
       "0  ChatGPTで遊ぶの忘れてた！！ 書類作るコード書いてみてほしいのと、 どこまで思考整理付...   \n",
       "1  @AlexandrovnaIng Prohibition of ChatGPT has be...   \n",
       "2  Schaut Euch an, was @fobizz @DianaKnodel alles...   \n",
       "3                         Bow down to chatGPT 🫡.....   \n",
       "4  Profilinde vatan, Türkiye falan yazan bireyler...   \n",
       "5  ChatGPT’nin bilinmeyen arka planı: Ucuz iş güc...   \n",
       "6  ChatGPT runs 10K Nvidia training GPUs with pot...   \n",
       "7  @SWENGDAD There is repetitive work in every jo...   \n",
       "8  I created a fictional jewelry brand using Chat...   \n",
       "9  It will look similar to irobot. The company wi...   \n",
       "\n",
       "                                       All_tidy_text  \n",
       "0                                            ChatGPT  \n",
       "1  AlexandrovnaIng Prohibition ChatGPT added hono...  \n",
       "2  Schaut Euch fobizz DianaKnodel alles auf die P...  \n",
       "3                                        Bow chatGPT  \n",
       "4  Profilinde vatan Trkiye falan yazan bireylerin...  \n",
       "5  ChatGPTnin bilinmeyen arka plan Ucuz gc eviri ...  \n",
       "6  ChatGPT runs K Nvidia training GPUs potential ...  \n",
       "7  SWENGDAD There repetitive work every job lots ...  \n",
       "8  I created fictional jewelry brand using ChatGP...  \n",
       "9  It look similar irobot The company install min...  "
      ]
     },
     "execution_count": 49,
     "metadata": {},
     "output_type": "execute_result"
    }
   ],
   "source": [
    "# Removing stopwords\n",
    "\n",
    "stopwords_set = set(stopwords)\n",
    "cleaned_text = []\n",
    "\n",
    "for index, row in df.iterrows():\n",
    "    \n",
    "    # filerting out all the stopwords \n",
    "    words_without_stopwords = [word for word in row.All_tidy_text.split() if not word in stopwords_set and '#' not in word.lower()]\n",
    "    \n",
    "    # finally creating tweets list of tuples containing stopwords(list) \n",
    "    cleaned_text.append(' '.join(words_without_stopwords))\n",
    "    \n",
    "df['All_tidy_text'] = cleaned_text\n",
    "df[[\"Text\",\"tidy_text\" ,\"All_tidy_text\"]].head(10)"
   ]
  },
  {
   "cell_type": "code",
   "execution_count": null,
   "id": "40e831e9",
   "metadata": {
    "papermill": {
     "duration": 0.025938,
     "end_time": "2023-05-05T04:40:55.743697",
     "exception": false,
     "start_time": "2023-05-05T04:40:55.717759",
     "status": "completed"
    },
    "tags": []
   },
   "outputs": [],
   "source": []
  },
  {
   "cell_type": "code",
   "execution_count": 50,
   "id": "9af447fd",
   "metadata": {
    "execution": {
     "iopub.execute_input": "2023-05-05T04:40:55.798688Z",
     "iopub.status.busy": "2023-05-05T04:40:55.798310Z",
     "iopub.status.idle": "2023-05-05T04:40:55.806484Z",
     "shell.execute_reply": "2023-05-05T04:40:55.805228Z"
    },
    "papermill": {
     "duration": 0.038775,
     "end_time": "2023-05-05T04:40:55.808878",
     "exception": false,
     "start_time": "2023-05-05T04:40:55.770103",
     "status": "completed"
    },
    "tags": []
   },
   "outputs": [],
   "source": [
    "stopwords = set(stopwords)\n",
    "\n",
    "def show_wordcloud(data, mask=None, title=\"\"):\n",
    "    text = \" \".join(t for t in data.dropna())\n",
    "    wordcloud =WordCloud(stopwords=stopwords, scale=4,random_state=20, max_font_size=50, max_words=500,mask=mask, relative_scaling=0.5, background_color=\"black\").generate(text)\n",
    "    fig = plt.figure(1, figsize=(16,10))\n",
    "    plt.axis('off')\n",
    "    fig.suptitle(title, fontsize=20, color='white')\n",
    "    fig.subplots_adjust(top=2)\n",
    "    plt.imshow(wordcloud, interpolation='bilinear')\n",
    "    plt.show() "
   ]
  },
  {
   "cell_type": "code",
   "execution_count": 51,
   "id": "f73d6481",
   "metadata": {
    "execution": {
     "iopub.execute_input": "2023-05-05T04:41:02.187171Z",
     "iopub.status.busy": "2023-05-05T04:41:02.186438Z",
     "iopub.status.idle": "2023-05-05T04:41:02.286858Z",
     "shell.execute_reply": "2023-05-05T04:41:02.285848Z"
    },
    "papermill": {
     "duration": 0.144176,
     "end_time": "2023-05-05T04:41:02.289384",
     "exception": false,
     "start_time": "2023-05-05T04:41:02.145208",
     "status": "completed"
    },
    "tags": []
   },
   "outputs": [],
   "source": [
    "df['Datetime'] = pd.to_datetime(df['Datetime'])\n",
    "\n",
    "df['year'] = df['Datetime'].dt.year\n",
    "df['month'] = df['Datetime'].dt.month\n",
    "df['day'] = df['Datetime'].dt.day\n",
    "df['dayofweek'] = df['Datetime'].dt.dayofweek\n",
    "df['hour'] = df['Datetime'].dt.hour\n",
    "df['minute'] = df['Datetime'].dt.minute\n",
    "df['dayofyear'] = df['Datetime'].dt.dayofyear\n",
    "df['date'] = df['Datetime'].dt.date"
   ]
  },
  {
   "cell_type": "code",
   "execution_count": 52,
   "id": "c0d8c3eb",
   "metadata": {
    "execution": {
     "iopub.execute_input": "2023-05-05T04:41:02.371314Z",
     "iopub.status.busy": "2023-05-05T04:41:02.370222Z",
     "iopub.status.idle": "2023-05-05T04:41:02.387521Z",
     "shell.execute_reply": "2023-05-05T04:41:02.386268Z"
    },
    "papermill": {
     "duration": 0.061196,
     "end_time": "2023-05-05T04:41:02.390469",
     "exception": false,
     "start_time": "2023-05-05T04:41:02.329273",
     "status": "completed"
    },
    "tags": []
   },
   "outputs": [],
   "source": [
    "text_time_df = df.groupby([\"date\"])[\"All_tidy_text\"].count().reset_index()\n",
    "text_time_df.columns = [\"date\", \"count\"]\n"
   ]
  },
  {
   "cell_type": "code",
   "execution_count": 53,
   "id": "fa53bf0c",
   "metadata": {
    "execution": {
     "iopub.execute_input": "2023-05-05T04:41:02.474602Z",
     "iopub.status.busy": "2023-05-05T04:41:02.474123Z",
     "iopub.status.idle": "2023-05-05T04:41:02.483276Z",
     "shell.execute_reply": "2023-05-05T04:41:02.482280Z"
    },
    "papermill": {
     "duration": 0.05423,
     "end_time": "2023-05-05T04:41:02.485575",
     "exception": false,
     "start_time": "2023-05-05T04:41:02.431345",
     "status": "completed"
    },
    "tags": []
   },
   "outputs": [],
   "source": [
    "def plot_time_Interval(df, x='date', y='count', hue=None, size=1, title=\"\", is_log=False):\n",
    "    sns.set(style=\"whitegrid\")                                                 \n",
    "    paper_rc = {'lines.linewidth': 3, 'lines.markersize': 20}                  \n",
    "    sns.set_context(\"paper\", rc = paper_rc)  \n",
    "    f, ax = plt.subplots(1,1, figsize=(10,5))\n",
    "    g = sns.lineplot(x=x, y=y, hue=hue, data=df)\n",
    "    plt.xticks(rotation=90)\n",
    "    if hue:\n",
    "        plt.title(f'{y} grouped by {hue} | {title}')\n",
    "    else:\n",
    "        plt.title(f'{y} | {title}')\n",
    "    if(is_log):\n",
    "        ax.set(yscale=\"log\")\n",
    "    ax.grid(color='black', linestyle='dotted', linewidth=0.75)\n",
    "    plt.show() "
   ]
  },
  {
   "cell_type": "code",
   "execution_count": 54,
   "id": "b227a911",
   "metadata": {
    "execution": {
     "iopub.execute_input": "2023-05-05T04:41:02.568524Z",
     "iopub.status.busy": "2023-05-05T04:41:02.567811Z",
     "iopub.status.idle": "2023-05-05T04:41:02.943564Z",
     "shell.execute_reply": "2023-05-05T04:41:02.942359Z"
    },
    "papermill": {
     "duration": 0.420244,
     "end_time": "2023-05-05T04:41:02.946231",
     "exception": false,
     "start_time": "2023-05-05T04:41:02.525987",
     "status": "completed"
    },
    "tags": []
   },
   "outputs": [
    {
     "data": {
      "image/png": "[encoded data removed]",
      "text/plain": [
       "<Figure size 1000x500 with 1 Axes>"
      ]
     },
     "metadata": {},
     "output_type": "display_data"
    }
   ],
   "source": [
    "plot_time_Interval(text_time_df, x='date', title=\"Number of tweets / day\")"
   ]
  },
  {
   "cell_type": "code",
   "execution_count": 55,
   "id": "54868e77",
   "metadata": {
    "execution": {
     "iopub.execute_input": "2023-05-05T04:41:03.031064Z",
     "iopub.status.busy": "2023-05-05T04:41:03.030135Z",
     "iopub.status.idle": "2023-05-05T04:41:03.037268Z",
     "shell.execute_reply": "2023-05-05T04:41:03.036402Z"
    },
    "papermill": {
     "duration": 0.052162,
     "end_time": "2023-05-05T04:41:03.039476",
     "exception": false,
     "start_time": "2023-05-05T04:41:02.987314",
     "status": "completed"
    },
    "tags": []
   },
   "outputs": [
    {
     "data": {
      "text/plain": [
       "array([6, 0, 1])"
      ]
     },
     "execution_count": 55,
     "metadata": {},
     "output_type": "execute_result"
    }
   ],
   "source": [
    "df['dayofweek'].unique()"
   ]
  },
  {
   "cell_type": "code",
   "execution_count": 56,
   "id": "8f2364a8",
   "metadata": {
    "execution": {
     "iopub.execute_input": "2023-05-05T04:41:03.123117Z",
     "iopub.status.busy": "2023-05-05T04:41:03.122690Z",
     "iopub.status.idle": "2023-05-05T04:41:03.129073Z",
     "shell.execute_reply": "2023-05-05T04:41:03.127961Z"
    },
    "papermill": {
     "duration": 0.051058,
     "end_time": "2023-05-05T04:41:03.131619",
     "exception": false,
     "start_time": "2023-05-05T04:41:03.080561",
     "status": "completed"
    },
    "tags": []
   },
   "outputs": [],
   "source": [
    "s=df['dayofweek'].value_counts()"
   ]
  },
  {
   "cell_type": "code",
   "execution_count": 57,
   "id": "ed0a960e",
   "metadata": {
    "execution": {
     "iopub.execute_input": "2023-05-05T04:41:03.213868Z",
     "iopub.status.busy": "2023-05-05T04:41:03.213393Z",
     "iopub.status.idle": "2023-05-05T04:41:03.341963Z",
     "shell.execute_reply": "2023-05-05T04:41:03.340351Z"
    },
    "papermill": {
     "duration": 0.174544,
     "end_time": "2023-05-05T04:41:03.346436",
     "exception": false,
     "start_time": "2023-05-05T04:41:03.171892",
     "status": "completed"
    },
    "tags": []
   },
   "outputs": [
    {
     "data": {
      "image/png": "[encoded data removed]",
      "text/plain": [
       "<Figure size 640x480 with 1 Axes>"
      ]
     },
     "metadata": {},
     "output_type": "display_data"
    }
   ],
   "source": [
    "palette_color = sns.color_palette('bright')\n",
    "plt.title(\"Day of Week\")\n",
    "plt.pie(s, labels=s.index, colors=palette_color, autopct='%.0f%%')\n",
    "plt.show()"
   ]
  },
  {
   "cell_type": "code",
   "execution_count": 58,
   "id": "b4014a77",
   "metadata": {
    "execution": {
     "iopub.execute_input": "2023-05-05T04:41:03.467357Z",
     "iopub.status.busy": "2023-05-05T04:41:03.466744Z",
     "iopub.status.idle": "2023-05-05T04:41:03.478212Z",
     "shell.execute_reply": "2023-05-05T04:41:03.476863Z"
    },
    "papermill": {
     "duration": 0.057934,
     "end_time": "2023-05-05T04:41:03.481572",
     "exception": false,
     "start_time": "2023-05-05T04:41:03.423638",
     "status": "completed"
    },
    "tags": []
   },
   "outputs": [
    {
     "data": {
      "text/plain": [
       "array([datetime.date(2023, 1, 22), datetime.date(2023, 1, 23),\n",
       "       datetime.date(2023, 1, 24)], dtype=object)"
      ]
     },
     "execution_count": 58,
     "metadata": {},
     "output_type": "execute_result"
    }
   ],
   "source": [
    "df['date'].unique()"
   ]
  },
  {
   "cell_type": "code",
   "execution_count": 59,
   "id": "629f65da",
   "metadata": {
    "execution": {
     "iopub.execute_input": "2023-05-05T04:41:03.568627Z",
     "iopub.status.busy": "2023-05-05T04:41:03.567839Z",
     "iopub.status.idle": "2023-05-05T04:41:03.576889Z",
     "shell.execute_reply": "2023-05-05T04:41:03.575663Z"
    },
    "papermill": {
     "duration": 0.055404,
     "end_time": "2023-05-05T04:41:03.579839",
     "exception": false,
     "start_time": "2023-05-05T04:41:03.524435",
     "status": "completed"
    },
    "tags": []
   },
   "outputs": [],
   "source": [
    "s1=df['date'].value_counts()"
   ]
  },
  {
   "cell_type": "code",
   "execution_count": 60,
   "id": "48248114",
   "metadata": {
    "execution": {
     "iopub.execute_input": "2023-05-05T04:41:03.665616Z",
     "iopub.status.busy": "2023-05-05T04:41:03.664848Z",
     "iopub.status.idle": "2023-05-05T04:41:03.791636Z",
     "shell.execute_reply": "2023-05-05T04:41:03.789882Z"
    },
    "papermill": {
     "duration": 0.173612,
     "end_time": "2023-05-05T04:41:03.796155",
     "exception": false,
     "start_time": "2023-05-05T04:41:03.622543",
     "status": "completed"
    },
    "tags": []
   },
   "outputs": [
    {
     "data": {
      "image/png": "[encoded data removed]",
      "text/plain": [
       "<Figure size 640x480 with 1 Axes>"
      ]
     },
     "metadata": {},
     "output_type": "display_data"
    }
   ],
   "source": [
    "plt.title(\"Tweets distribution on dates\")\n",
    "palette_color = sns.color_palette('bright')\n",
    "plt.pie(s1, labels=s1.index, colors=palette_color, autopct='%.0f%%')\n",
    "plt.show()"
   ]
  },
  {
   "cell_type": "code",
   "execution_count": 61,
   "id": "13208dc7",
   "metadata": {
    "execution": {
     "iopub.execute_input": "2023-05-05T04:41:03.915274Z",
     "iopub.status.busy": "2023-05-05T04:41:03.914539Z",
     "iopub.status.idle": "2023-05-05T04:41:03.932551Z",
     "shell.execute_reply": "2023-05-05T04:41:03.931298Z"
    },
    "papermill": {
     "duration": 0.065733,
     "end_time": "2023-05-05T04:41:03.935340",
     "exception": false,
     "start_time": "2023-05-05T04:41:03.869607",
     "status": "completed"
    },
    "tags": []
   },
   "outputs": [],
   "source": [
    "SIA = SentimentIntensityAnalyzer()\n",
    "def find_sentiment(post):\n",
    "    try:\n",
    "        if SIA.polarity_scores(post)[\"compound\"] > 0:\n",
    "            return \"Positive\"\n",
    "        elif SIA.polarity_scores(post)[\"compound\"] < 0:\n",
    "            return \"Negative\"\n",
    "        else:\n",
    "            return \"Neutral\"  \n",
    "    except:\n",
    "        return \"Neutral\""
   ]
  },
  {
   "cell_type": "code",
   "execution_count": 62,
   "id": "a4e95be0",
   "metadata": {
    "execution": {
     "iopub.execute_input": "2023-05-05T04:41:04.021261Z",
     "iopub.status.busy": "2023-05-05T04:41:04.020832Z",
     "iopub.status.idle": "2023-05-05T04:41:04.028484Z",
     "shell.execute_reply": "2023-05-05T04:41:04.027636Z"
    },
    "papermill": {
     "duration": 0.053431,
     "end_time": "2023-05-05T04:41:04.030636",
     "exception": false,
     "start_time": "2023-05-05T04:41:03.977205",
     "status": "completed"
    },
    "tags": []
   },
   "outputs": [],
   "source": [
    "def plot_sentiment(df, feature, title):\n",
    "    counts = df[feature].value_counts()\n",
    "    percent = counts/sum(counts)\n",
    "\n",
    "    fig, (ax1, ax2) = plt.subplots(ncols=2, figsize=(10, 5))\n",
    "    \n",
    "    colors = [\"Black\", \"Green\", \"Red\"]\n",
    "    counts.plot(kind='bar', ax=ax1, color=colors)\n",
    "    percent.plot(kind='bar', ax=ax2, color=colors)\n",
    "    ax1.set_ylabel(f'Counts : {title} sentiments', size=10)\n",
    "    ax2.set_ylabel(f'Percentage : {title} sentiments', size=10)\n",
    "    plt.suptitle(f\"Sentiment analysis: {title}\")\n",
    "    plt.tight_layout()\n",
    "    plt.show()"
   ]
  },
  {
   "cell_type": "code",
   "execution_count": 63,
   "id": "052b235e",
   "metadata": {
    "execution": {
     "iopub.execute_input": "2023-05-05T04:41:04.116445Z",
     "iopub.status.busy": "2023-05-05T04:41:04.116004Z",
     "iopub.status.idle": "2023-05-05T04:41:20.264633Z",
     "shell.execute_reply": "2023-05-05T04:41:20.263559Z"
    },
    "papermill": {
     "duration": 16.194716,
     "end_time": "2023-05-05T04:41:20.267307",
     "exception": false,
     "start_time": "2023-05-05T04:41:04.072591",
     "status": "completed"
    },
    "tags": []
   },
   "outputs": [
    {
     "data": {
      "image/png": "[encoded data removed]",
      "text/plain": [
       "<Figure size 1000x500 with 2 Axes>"
      ]
     },
     "metadata": {},
     "output_type": "display_data"
    }
   ],
   "source": [
    "df['text_sentiment'] = df['All_tidy_text'].apply(lambda x: find_sentiment(x))\n",
    "plot_sentiment(df, 'text_sentiment', 'All_tidy_text')"
   ]
  },
  {
   "cell_type": "code",
   "execution_count": 64,
   "id": "9e708024",
   "metadata": {
    "execution": {
     "iopub.execute_input": "2023-05-05T04:41:20.356762Z",
     "iopub.status.busy": "2023-05-05T04:41:20.355950Z",
     "iopub.status.idle": "2023-05-05T04:41:20.382303Z",
     "shell.execute_reply": "2023-05-05T04:41:20.381275Z"
    },
    "papermill": {
     "duration": 0.073636,
     "end_time": "2023-05-05T04:41:20.384896",
     "exception": false,
     "start_time": "2023-05-05T04:41:20.311260",
     "status": "completed"
    },
    "tags": []
   },
   "outputs": [],
   "source": [
    "text_time_df1 = df.groupby([\"date\", \"text_sentiment\"])[\"Text\"].count().reset_index()\n",
    "text_time_df1.columns = [\"date\", \"text_sentiment\", \"count\"]"
   ]
  },
  {
   "cell_type": "code",
   "execution_count": 65,
   "id": "4928e0a7",
   "metadata": {
    "execution": {
     "iopub.execute_input": "2023-05-05T04:41:20.474833Z",
     "iopub.status.busy": "2023-05-05T04:41:20.474108Z",
     "iopub.status.idle": "2023-05-05T04:41:20.909042Z",
     "shell.execute_reply": "2023-05-05T04:41:20.907693Z"
    },
    "papermill": {
     "duration": 0.483969,
     "end_time": "2023-05-05T04:41:20.912366",
     "exception": false,
     "start_time": "2023-05-05T04:41:20.428397",
     "status": "completed"
    },
    "tags": []
   },
   "outputs": [
    {
     "data": {
      "image/png": "[encoded data removed]",
      "text/plain": [
       "<Figure size 1000x500 with 1 Axes>"
      ]
     },
     "metadata": {},
     "output_type": "display_data"
    }
   ],
   "source": [
    "plot_time_Interval(text_time_df1, x='date', title=\"Number of tweets / day\", hue=\"text_sentiment\")"
   ]
  },
  {
   "cell_type": "code",
   "execution_count": null,
   "id": "d18c0af7",
   "metadata": {},
   "outputs": [],
   "source": []
  }
 ],
 "metadata": {
  "kernelspec": {
   "display_name": "Python 3 (ipykernel)",
   "language": "python",
   "name": "python3"
  },
  "language_info": {
   "codemirror_mode": {
    "name": "ipython",
    "version": 3
   },
   "file_extension": ".py",
   "mimetype": "text/x-python",
   "name": "python",
   "nbconvert_exporter": "python",
   "pygments_lexer": "ipython3",
   "version": "3.9.16"
  },
  "papermill": {
   "default_parameters": {},
   "duration": 62.652014,
   "end_time": "2023-05-05T04:41:30.308984",
   "environment_variables": {},
   "exception": null,
   "input_path": "__notebook__.ipynb",
   "output_path": "__notebook__.ipynb",
   "parameters": {},
   "start_time": "2023-05-05T04:40:27.656970",
   "version": "2.4.0"
  }
 },
 "nbformat": 4,
 "nbformat_minor": 5
}
